{
  "cells": [
    {
      "cell_type": "markdown",
      "metadata": {
        "id": "view-in-github",
        "colab_type": "text"
      },
      "source": [
        "<a href=\"https://colab.research.google.com/github/ruoyuz31/Coding-Practice/blob/main/2_Pruning.ipynb\" target=\"_parent\"><img src=\"https://colab.research.google.com/assets/colab-badge.svg\" alt=\"Open In Colab\"/></a>"
      ]
    },
    {
      "cell_type": "markdown",
      "metadata": {
        "id": "FkQKmOopv02-"
      },
      "source": [
        "# EE 508 HW 5 Part 1: Pruning\n",
        "\n",
        "Your task in this Colab notebook is to fill out the sections that are specified by **TODO** (please search the keyword `TODO` to make sure you do not miss any).\n",
        "\n",
        "Prerequisites: set the runtime type to GPU. (Runtime -> Change Runtime Type)"
      ]
    },
    {
      "cell_type": "markdown",
      "metadata": {
        "id": "N0kwrhWyhdKj"
      },
      "source": [
        "## Initial Setup\n",
        "\n",
        "This section imports all required packages from PyTorch."
      ]
    },
    {
      "cell_type": "code",
      "execution_count": 1,
      "metadata": {
        "id": "Pnvr5RGGvaVo"
      },
      "outputs": [],
      "source": [
        "import matplotlib.pyplot as plt\n",
        "\n",
        "import torch\n",
        "import torchvision\n",
        "import torchvision.transforms as transforms\n",
        "import torch.nn as nn\n",
        "import torch.nn.functional as F\n",
        "import torch.optim as optim\n",
        "from torch.utils.data import DataLoader"
      ]
    },
    {
      "cell_type": "markdown",
      "metadata": {
        "id": "QFY-Uog3e-Av"
      },
      "source": [
        "Verify that GPU is availble to use."
      ]
    },
    {
      "cell_type": "code",
      "execution_count": 2,
      "metadata": {
        "id": "7vjAwwbre-Av"
      },
      "outputs": [],
      "source": [
        "if torch.cuda.is_available():\n",
        "    device = torch.device('cuda')\n",
        "else:\n",
        "    device = torch.device('cpu')"
      ]
    },
    {
      "cell_type": "markdown",
      "metadata": {
        "id": "dGJOa8RAv9pW"
      },
      "source": [
        "## Create CNN\n",
        "\n",
        "Note: This section is similar to HW2.\n",
        "\n",
        "Prepare CIFAR10 dataset."
      ]
    },
    {
      "cell_type": "code",
      "execution_count": 3,
      "metadata": {
        "id": "UJl62iDWe-Av",
        "outputId": "a30f0452-7510-4ea6-f728-327276cf4932",
        "colab": {
          "base_uri": "https://localhost:8080/"
        }
      },
      "outputs": [
        {
          "output_type": "stream",
          "name": "stderr",
          "text": [
            "100%|██████████| 170M/170M [00:03<00:00, 53.6MB/s]\n"
          ]
        }
      ],
      "source": [
        "# Set the batch size for data processing\n",
        "batch_size = 4\n",
        "\n",
        "# Define the mean values and standard deviation values for normalization\n",
        "mean_values = (0.5, 0.5, 0.5)  # Mean values for red, green, and blue channels\n",
        "std_values = (0.5, 0.5, 0.5)   # Standard deviation values for red, green, and blue channels\n",
        "\n",
        "# Define the transformation pipeline\n",
        "transform = transforms.Compose([\n",
        "    transforms.ToTensor(),                  # Convert images to tensors\n",
        "    transforms.Normalize(mean_values, std_values)  # Normalize tensor values\n",
        "])\n",
        "\n",
        "# Load the CIFAR10 training dataset and apply the defined transformations\n",
        "trainset = torchvision.datasets.CIFAR10(root=\"./\", train=True,\n",
        "                                        download=True, transform=transform)\n",
        "\n",
        "# Create a DataLoader to efficiently load and process training data in batches\n",
        "trainloader = torch.utils.data.DataLoader(trainset, batch_size=batch_size,\n",
        "                                          shuffle=True, num_workers=2)\n",
        "\n",
        "# Load the CIFAR10 test dataset and apply the same transformations as for training\n",
        "testset = torchvision.datasets.CIFAR10(root=\"./\", train=False,\n",
        "                                       download=True, transform=transform)\n",
        "\n",
        "# Create a DataLoader for test data\n",
        "testloader = torch.utils.data.DataLoader(testset, batch_size=batch_size,\n",
        "                                         shuffle=False, num_workers=2)\n",
        "\n",
        "classes = ('plane', 'car', 'bird', 'cat',\n",
        "           'deer', 'dog', 'frog', 'horse', 'ship', 'truck')"
      ]
    },
    {
      "cell_type": "markdown",
      "metadata": {
        "id": "jJ_JeFcce-Aw"
      },
      "source": [
        "Define a simple CNN that classifies CIFAR images."
      ]
    },
    {
      "cell_type": "code",
      "execution_count": 4,
      "metadata": {
        "id": "iwwy7KL-vfYx"
      },
      "outputs": [],
      "source": [
        "class Net(nn.Module):\n",
        "    def __init__(self):\n",
        "        super(Net, self).__init__()\n",
        "\n",
        "        # Define the layers of the neural network architecture\n",
        "\n",
        "        # First convolutional layer: 3 input channels, 6 output channels, kernel size 5x5\n",
        "        self.conv1 = nn.Conv2d(3, 6, 5, bias=False)\n",
        "\n",
        "        # Max pooling layer with kernel size 2x2 and stride 2\n",
        "        self.pool = nn.MaxPool2d(2, 2)\n",
        "\n",
        "        # Second convolutional layer: 6 input channels, 16 output channels, kernel size 5x5\n",
        "        self.conv2 = nn.Conv2d(6, 16, 5, bias=False)\n",
        "\n",
        "        # Fully connected (dense) layers\n",
        "\n",
        "        # First fully connected layer: 16*5*5 input features, 120 output features\n",
        "        self.fc1 = nn.Linear(16 * 5 * 5, 120, bias=False)\n",
        "\n",
        "        # Second fully connected layer: 120 input features, 84 output features\n",
        "        self.fc2 = nn.Linear(120, 84, bias=False)\n",
        "\n",
        "        # Third fully connected layer: 84 input features, 10 output features (for classification)\n",
        "        self.fc3 = nn.Linear(84, 10, bias=False)\n",
        "\n",
        "    def forward(self, x: torch.Tensor) -> torch.Tensor:\n",
        "        # Forward pass through the neural network\n",
        "\n",
        "        # Apply first convolutional layer, followed by ReLU activation and max pooling\n",
        "        x = self.pool(F.relu(self.conv1(x)))\n",
        "\n",
        "        # Apply second convolutional layer, followed by ReLU activation and max pooling\n",
        "        x = self.pool(F.relu(self.conv2(x)))\n",
        "\n",
        "        # The output from the convolutional and pooling layers is in the form of a\n",
        "        # 3D tensor (height, width, depth or channels).\n",
        "        # To feed this tensor into a fully connected layer,\n",
        "        # it needs to be flattened into a 1D tensor.\n",
        "        # Reshape tensor for fully connected layers\n",
        "        # A2D tensor with a shape of [batch_size, 16 * 5 * 5].\n",
        "        x = x.view(-1, 16 * 5 * 5)\n",
        "\n",
        "        # Apply first fully connected layer, followed by ReLU activation\n",
        "        x = F.relu(self.fc1(x))\n",
        "\n",
        "        # Apply second fully connected layer, followed by ReLU activation\n",
        "        x = F.relu(self.fc2(x))\n",
        "\n",
        "        # Apply third fully connected layer (output layer)\n",
        "        x = self.fc3(x)\n",
        "\n",
        "        return x\n",
        "\n",
        "# Create an instance of the neural network and move it to the specified device (e.g., GPU)\n",
        "net = Net().to(device)"
      ]
    },
    {
      "cell_type": "markdown",
      "metadata": {
        "id": "v3bi84cbe-Aw"
      },
      "source": [
        "Train this CNN on the training dataset (this may take a few moments)."
      ]
    },
    {
      "cell_type": "code",
      "execution_count": 5,
      "metadata": {
        "id": "YBV-rQ-ze-Ax"
      },
      "outputs": [],
      "source": [
        "def train(model: nn.Module, dataloader: DataLoader, epoch_num: int):\n",
        "    # Define the loss criterion and optimizer\n",
        "    criterion = nn.CrossEntropyLoss()  # Cross-entropy loss for classification\n",
        "    optimizer = optim.SGD(model.parameters(), lr=0.001, momentum=0.9)  # SGD optimizer with momentum\n",
        "\n",
        "    for epoch in range(epoch_num):  # Loop over the dataset for multiple epochs\n",
        "        running_loss = 0.0\n",
        "\n",
        "        # Iterate over mini-batches of data\n",
        "        for i, data in enumerate(dataloader, 0):\n",
        "            # Get the inputs; data is a list of [inputs, labels]\n",
        "            inputs, labels = data\n",
        "\n",
        "            inputs = inputs.to(device)  # Move inputs to the specified device\n",
        "            labels = labels.to(device)  # Move labels to the specified device\n",
        "\n",
        "            # Zero the gradients in the optimizer\n",
        "            optimizer.zero_grad()\n",
        "\n",
        "            # Forward pass + backward pass (backpropagation) + optimization\n",
        "            outputs = model(inputs)  # Forward pass through the model\n",
        "            loss = criterion(outputs, labels)  # Calculate the loss\n",
        "            loss.backward()  # Compute gradients\n",
        "            optimizer.step()  # Update model parameters\n",
        "\n",
        "            # Print statistics\n",
        "            running_loss += loss.item()\n",
        "            if i % 2000 == 1999:  # Print every 2000 mini-batches\n",
        "                print('[%d, %5d] loss: %.3f' %\n",
        "                    (epoch + 1, i + 1, running_loss / 2000))\n",
        "                running_loss = 0.0\n",
        "\n",
        "    print('Finished Training')  # Training loop is complete"
      ]
    },
    {
      "cell_type": "code",
      "execution_count": 6,
      "metadata": {
        "id": "AvyP102te-Ax",
        "outputId": "3a35677c-12cb-425e-cbe7-06c5e2449abc",
        "colab": {
          "base_uri": "https://localhost:8080/"
        }
      },
      "outputs": [
        {
          "output_type": "stream",
          "name": "stdout",
          "text": [
            "[1,  2000] loss: 2.203\n",
            "[1,  4000] loss: 1.864\n",
            "[1,  6000] loss: 1.702\n",
            "[1,  8000] loss: 1.608\n",
            "[1, 10000] loss: 1.560\n",
            "[1, 12000] loss: 1.493\n",
            "[2,  2000] loss: 1.416\n",
            "[2,  4000] loss: 1.418\n",
            "[2,  6000] loss: 1.382\n",
            "[2,  8000] loss: 1.384\n",
            "[2, 10000] loss: 1.352\n",
            "[2, 12000] loss: 1.318\n",
            "Finished Training\n"
          ]
        }
      ],
      "source": [
        "train(net, trainloader, 2)"
      ]
    },
    {
      "cell_type": "markdown",
      "metadata": {
        "id": "IdOD_JKPe-Ax"
      },
      "source": [
        "Let us look at how the network performs on the test dataset."
      ]
    },
    {
      "cell_type": "code",
      "execution_count": 7,
      "metadata": {
        "id": "MC1Z9aSqe-Ax",
        "outputId": "1b5c9309-3908-4e98-82e2-511dacfb5e37",
        "colab": {
          "base_uri": "https://localhost:8080/"
        }
      },
      "outputs": [
        {
          "output_type": "stream",
          "name": "stdout",
          "text": [
            "Accuracy of the network on the test images: 54.84%\n"
          ]
        }
      ],
      "source": [
        "# A function to evaluate the performance of a given neural network model\n",
        "# using a test dataset.\n",
        "# It calculates the accuracy of the model's predictions on the test data.\n",
        "def calculate_accuracy(model: nn.Module, dataloader: DataLoader, max_samples=None) -> float:\n",
        "    correct_predictions = 0  # Initialize the count of correctly predicted samples\n",
        "    total_samples = 0    # Initialize the count of total samples\n",
        "    inference_count = 0  # Initialize the count of inferences made\n",
        "\n",
        "    with torch.no_grad():  # Disable gradient calculation for inference\n",
        "        for batch_data in dataloader:\n",
        "            images, labels = batch_data  # Separate images and labels from the batch\n",
        "\n",
        "            images = images.to(device)  # Move images to the specified device\n",
        "            labels = labels.to(device)  # Move labels to the specified device\n",
        "\n",
        "            outputs = model(images)  # Forward pass to get model predictions\n",
        "            _, predicted = torch.max(outputs.data, 1)  # Get predicted class indices\n",
        "\n",
        "            total_samples += labels.size(0)  # Increment the total count of samples\n",
        "            correct_predictions += (predicted == labels).sum().item()  # Count correct predictions\n",
        "\n",
        "            if max_samples:  # Check if a maximum number of samples for testing is specified\n",
        "                inference_count += images.shape[0]  # Increment the count of inferences made\n",
        "                if inference_count > max_samples:  # Stop testing if maximum samples reached\n",
        "                    break\n",
        "\n",
        "    accuracy = 100 * correct_predictions / total_samples  # Calculate the accuracy as a percentage\n",
        "    return accuracy\n",
        "\n",
        "score = calculate_accuracy(net, testloader)\n",
        "print('Accuracy of the network on the test images: {}%'.format(score))"
      ]
    },
    {
      "cell_type": "markdown",
      "metadata": {
        "id": "z6pj_hGae-Ax"
      },
      "source": [
        "## Measure Sparsity\n",
        "Print out the sparsity of each layer and the whole model's sparsity."
      ]
    },
    {
      "cell_type": "code",
      "execution_count": 8,
      "metadata": {
        "id": "sAcMV6yke-Ax"
      },
      "outputs": [],
      "source": [
        "def measure_sparsity(model:nn.Module):\n",
        "    \"\"\"\n",
        "    Print the sparsity information of LeNet5 models.\n",
        "\n",
        "    Args:\n",
        "    - model         (nn.Module): the given LeNet5\n",
        "\n",
        "    \"\"\"\n",
        "    # The layers in the LeNet5 model\n",
        "    module_name = ['conv1', 'conv2', 'fc1', 'fc2', 'fc3']\n",
        "    # The count variable to accumulate the counts within the layers\n",
        "    global_zeros = 0\n",
        "    global_elements = 0\n",
        "\n",
        "    for layer in module_name:\n",
        "        module = getattr(model, layer)\n",
        "        # count the number of zeros in the weights tensor\n",
        "        num_zeros = torch.sum(module.weight == 0)\n",
        "        # the total elements of the weights tensor\n",
        "        num_element = module.weight.nelement()\n",
        "        # the sparsity is ratio of zeros to total element amounts\n",
        "        sparsity = num_zeros/num_element\n",
        "        # print the sparsity information of the layer\n",
        "        print(f'Sparsity in {layer}weight: {100*sparsity:.2f}%')\n",
        "        # update the count of the whole model\n",
        "        global_zeros += num_zeros\n",
        "        global_elements += num_element\n",
        "\n",
        "    # print the global sparsity information\n",
        "    global_sparsity = global_zeros/global_elements\n",
        "    print(f'Global Sparsity: {100*global_sparsity:.2f}%')"
      ]
    },
    {
      "cell_type": "markdown",
      "metadata": {
        "id": "mssn5Qife-Ax"
      },
      "source": [
        "Initially, a model typically does not contain any deliberate zero values within its parameters."
      ]
    },
    {
      "cell_type": "code",
      "execution_count": 9,
      "metadata": {
        "id": "FXK_87Mpe-Ax",
        "outputId": "879cc7f8-e405-4470-d705-4ab406a2a8cd",
        "colab": {
          "base_uri": "https://localhost:8080/"
        }
      },
      "outputs": [
        {
          "output_type": "stream",
          "name": "stdout",
          "text": [
            "Sparsity in conv1weight: 0.00%\n",
            "Sparsity in conv2weight: 0.00%\n",
            "Sparsity in fc1weight: 0.00%\n",
            "Sparsity in fc2weight: 0.00%\n",
            "Sparsity in fc3weight: 0.00%\n",
            "Global Sparsity: 0.00%\n"
          ]
        }
      ],
      "source": [
        "measure_sparsity(net)"
      ]
    },
    {
      "cell_type": "markdown",
      "metadata": {
        "id": "eqYt5Xu7e-Ay"
      },
      "source": [
        "## Visualize Weights\n",
        "\n",
        "Take each layer of our network and plot the historgram of its parameters."
      ]
    },
    {
      "cell_type": "code",
      "execution_count": 10,
      "metadata": {
        "id": "Fj4FpLNxe-Ay"
      },
      "outputs": [],
      "source": [
        "def analyze_layer_weights(layer_name: str, weight: torch.Tensor):\n",
        "    # Extract and flatten the weights of the given layer\n",
        "    layer_weights = weight.data.cpu().view(-1)\n",
        "\n",
        "    plt.figure(figsize=(5, 4))\n",
        "\n",
        "    # Plot a histogram of the flattened layer weights\n",
        "    plt.hist(layer_weights, density=True, bins=50)\n",
        "    plt.title(f\"{layer_name} Weights Histogram\")\n",
        "    plt.xlabel(\"Weight Value\")\n",
        "    plt.ylabel(\"Density\")\n",
        "\n",
        "    plt.show()"
      ]
    },
    {
      "cell_type": "markdown",
      "metadata": {
        "id": "L019nqSae-Ay"
      },
      "source": [
        "## Unstructured Pruning\n",
        "\n",
        "We explore unstructured pruning via `torch.util.prune`, a method that relies on the concept of masks to selectively disable weights within the model. Weights marked with a `1` are preserved, while those marked as `0` are effectively pruned away, allowing us to study the impact of this pruning strategy on our model's performance."
      ]
    },
    {
      "cell_type": "markdown",
      "metadata": {
        "id": "c1nJowzae-Ay"
      },
      "source": [
        "### **TODO 1:** Local Random Pruning\n",
        "Utilize the [`random_unstructured`](https://pytorch.org/docs/stable/generated/torch.nn.utils.prune.random_unstructured.html) function from the `torch.util.prune` library on the `conv1` layer. This function randomly prunes weights by generating a mask, simulating a scenario where certain connections are deemed non-essential. Your goal is to analyze the before-and-after effects of this pruning technique on model performance."
      ]
    },
    {
      "cell_type": "code",
      "execution_count": 11,
      "metadata": {
        "id": "I_FXo5EBe-Ay",
        "outputId": "8c1c41bf-b338-4ff8-fda4-a839485a8450",
        "colab": {
          "base_uri": "https://localhost:8080/",
          "height": 1000
        }
      },
      "outputs": [
        {
          "output_type": "display_data",
          "data": {
            "text/plain": [
              "<Figure size 500x400 with 1 Axes>"
            ],
            "image/png": "[encoded data removed]"
          },
          "metadata": {}
        },
        {
          "output_type": "stream",
          "name": "stdout",
          "text": [
            "tensor([[[ 0.1681,  0.2655, -0.0968, -0.1372, -0.1417],\n",
            "         [ 0.1228,  0.0311, -0.2404, -0.1795,  0.0550],\n",
            "         [-0.0355, -0.1808, -0.1943, -0.1497,  0.0575],\n",
            "         [-0.2161, -0.3284, -0.0403,  0.0677,  0.1915],\n",
            "         [ 0.0488, -0.0181,  0.2602,  0.1137,  0.1681]],\n",
            "\n",
            "        [[-0.0865, -0.0679, -0.2806, -0.2060, -0.2917],\n",
            "         [ 0.1113, -0.0795, -0.3237, -0.1261, -0.0061],\n",
            "         [-0.1621, -0.3549, -0.2508, -0.0472,  0.1958],\n",
            "         [-0.2697, -0.2982, -0.1238,  0.0925,  0.1088],\n",
            "         [-0.0768,  0.1899,  0.1353,  0.1531,  0.1473]],\n",
            "\n",
            "        [[ 0.1734,  0.1579,  0.0132, -0.0785, -0.0777],\n",
            "         [ 0.2041, -0.0738, -0.1893, -0.0140,  0.0541],\n",
            "         [ 0.1095, -0.1910, -0.2753, -0.0855,  0.0820],\n",
            "         [-0.2462, -0.1197,  0.0220,  0.0019,  0.1843],\n",
            "         [ 0.1193,  0.1509,  0.1815,  0.2967,  0.2743]]],\n",
            "       grad_fn=<SliceBackward0>)\n"
          ]
        },
        {
          "output_type": "display_data",
          "data": {
            "text/plain": [
              "<Figure size 500x400 with 1 Axes>"
            ],
            "image/png": "[encoded data removed]"
          },
          "metadata": {}
        },
        {
          "output_type": "stream",
          "name": "stdout",
          "text": [
            "tensor([[[ 0.1681,  0.0000, -0.0968, -0.1372, -0.1417],\n",
            "         [ 0.0000,  0.0000, -0.0000, -0.0000,  0.0550],\n",
            "         [-0.0000, -0.0000, -0.0000, -0.0000,  0.0000],\n",
            "         [-0.0000, -0.0000, -0.0000,  0.0677,  0.1915],\n",
            "         [ 0.0000, -0.0181,  0.0000,  0.0000,  0.1681]],\n",
            "\n",
            "        [[-0.0865, -0.0679, -0.2806, -0.2060, -0.0000],\n",
            "         [ 0.0000, -0.0795, -0.0000, -0.1261, -0.0061],\n",
            "         [-0.1621, -0.3549, -0.2508, -0.0472,  0.0000],\n",
            "         [-0.0000, -0.0000, -0.1238,  0.0000,  0.1088],\n",
            "         [-0.0000,  0.1899,  0.0000,  0.0000,  0.0000]],\n",
            "\n",
            "        [[ 0.1734,  0.1579,  0.0000, -0.0785, -0.0000],\n",
            "         [ 0.2041, -0.0738, -0.1893, -0.0140,  0.0000],\n",
            "         [ 0.0000, -0.0000, -0.0000, -0.0000,  0.0820],\n",
            "         [-0.0000, -0.1197,  0.0220,  0.0000,  0.0000],\n",
            "         [ 0.0000,  0.0000,  0.1815,  0.2967,  0.2743]]],\n",
            "       grad_fn=<SliceBackward0>)\n"
          ]
        }
      ],
      "source": [
        "import copy\n",
        "import torch.nn.utils.prune as prune\n",
        "\n",
        "# deep copy a new model for pruning\n",
        "net_prune_rand = copy.deepcopy(net)\n",
        "layer1 = net_prune_rand.conv1\n",
        "\n",
        "# Plot the histogram of the weights of the first convolutional layer before pruning\n",
        "analyze_layer_weights('Conv1', layer1.weight)\n",
        "\n",
        "# Print the first filter in the first convolutional layer before pruning\n",
        "print(layer1.weight[0, :, :, :])\n",
        "\n",
        "# TODO: Prune the weights of the first convolutional layer\n",
        "prune.random_unstructured(layer1, name=\"weight\", amount=0.5)\n",
        "\n",
        "# Plot the histogram of the weights of the first convolutional layer after pruning\n",
        "analyze_layer_weights('Conv1', layer1.weight)\n",
        "\n",
        "# Print the first filter in the first convolutional layer after pruning\n",
        "print(layer1.weight[0, :, :, :])"
      ]
    },
    {
      "cell_type": "code",
      "execution_count": 12,
      "metadata": {
        "id": "lfcqCBugxTLC",
        "outputId": "1213a97d-6d93-441e-8149-c8ddad8d4c3b",
        "colab": {
          "base_uri": "https://localhost:8080/"
        }
      },
      "outputs": [
        {
          "output_type": "stream",
          "name": "stdout",
          "text": [
            "Sparsity in conv1weight: 50.00%\n",
            "Sparsity in conv2weight: 0.00%\n",
            "Sparsity in fc1weight: 0.00%\n",
            "Sparsity in fc2weight: 0.00%\n",
            "Sparsity in fc3weight: 0.00%\n",
            "Global Sparsity: 0.36%\n",
            "Accuracy of the network on the test images: 43.91%\n"
          ]
        }
      ],
      "source": [
        "# Print the sparsity information of the pruned model\n",
        "measure_sparsity(net_prune_rand)\n",
        "\n",
        "score = calculate_accuracy(net_prune_rand, testloader)\n",
        "print('Accuracy of the network on the test images: {}%'.format(score))"
      ]
    },
    {
      "cell_type": "markdown",
      "metadata": {
        "id": "FybYWDUzDHg-"
      },
      "source": [
        "### **TODO 2:** L1 Pruning Across the Model\n",
        "Random pruning might lead to unpredictable outcomes. A more systematic approach involves using L1 norm pruning, targeting the least significant weights based on their absolute values. Apply [`l1_unstructured`](https://pytorch.org/docs/stable/generated/torch.nn.utils.prune.l1_unstructured.html) pruning to all convolutional and fully-connected layers, adjusting the sparsity levels to 30% and 40% respectively."
      ]
    },
    {
      "cell_type": "code",
      "execution_count": 13,
      "metadata": {
        "id": "ggSuXTLY9LcZ"
      },
      "outputs": [],
      "source": [
        "net_prune_l1 = copy.deepcopy(net)\n",
        "\n",
        "# TODO: Prune out 30% of the weights in conv layers and 40% of the weights in fc layers\n",
        "for layer in net_prune_l1.modules():\n",
        "    if isinstance(layer, nn.Conv2d):\n",
        "        prune.l1_unstructured(layer, name=\"weight\", amount=0.3)\n",
        "    if isinstance(layer, nn.Linear):\n",
        "        prune.l1_unstructured(layer, name=\"weight\", amount=0.4)\n"
      ]
    },
    {
      "cell_type": "code",
      "execution_count": 14,
      "metadata": {
        "colab": {
          "base_uri": "https://localhost:8080/"
        },
        "id": "HfU5G9kT_5ck",
        "outputId": "7f71b273-a9e8-47c0-802f-7d44886cbc09"
      },
      "outputs": [
        {
          "output_type": "stream",
          "name": "stdout",
          "text": [
            "Sparsity in conv1weight: 30.00%\n",
            "Sparsity in conv2weight: 30.00%\n",
            "Sparsity in fc1weight: 40.00%\n",
            "Sparsity in fc2weight: 40.00%\n",
            "Sparsity in fc3weight: 40.00%\n",
            "Global Sparsity: 39.54%\n",
            "Accuracy of the network on the test images: 54.18%\n"
          ]
        }
      ],
      "source": [
        "measure_sparsity(net_prune_l1)\n",
        "\n",
        "score = calculate_accuracy(net_prune_l1, testloader)\n",
        "print('Accuracy of the network on the test images: {}%'.format(score))"
      ]
    },
    {
      "cell_type": "markdown",
      "metadata": {
        "id": "XVOWgES0FHU3"
      },
      "source": [
        "### **TODO 3:** Global Pruning for Network\n",
        "The use of random pruning can yield unpredictable outcomes. A more effective approach involves employing the L1 norm (absolute value) as a criterion for eliminating the least impactful values within the model. Apply the [`global_unstructured`](https://pytorch.org/docs/stable/generated/torch.nn.utils.prune.global_unstructured.html) function across all model parameters to reduce the overall parameter count by 40%. Note that with global pruning, the proportion of pruned parameters may vary between different layers of the model."
      ]
    },
    {
      "cell_type": "code",
      "execution_count": 16,
      "metadata": {
        "id": "10NNFFHAEx1a"
      },
      "outputs": [],
      "source": [
        "net_prune_glob= copy.deepcopy(net)\n",
        "\n",
        "# TODO: Perform global pruning to the model\n",
        "parameters_to_prune = [\n",
        "    (module, 'weight') for module in net_prune_glob.modules()\n",
        "    if isinstance(module, (nn.Conv2d, nn.Linear))\n",
        "]\n",
        "\n",
        "prune.global_unstructured(\n",
        "    parameters_to_prune,\n",
        "    pruning_method=prune.L1Unstructured,\n",
        "    amount=0.4\n",
        ")\n"
      ]
    },
    {
      "cell_type": "code",
      "execution_count": 17,
      "metadata": {
        "colab": {
          "base_uri": "https://localhost:8080/"
        },
        "id": "nub6hOJqFfuz",
        "outputId": "73f66d3a-811d-4f37-f02e-f56ef4f27af4"
      },
      "outputs": [
        {
          "output_type": "stream",
          "name": "stdout",
          "text": [
            "Sparsity in conv1weight: 9.56%\n",
            "Sparsity in conv2weight: 18.17%\n",
            "Sparsity in fc1weight: 44.69%\n",
            "Sparsity in fc2weight: 26.08%\n",
            "Sparsity in fc3weight: 17.74%\n",
            "Global Sparsity: 40.00%\n",
            "Accuracy of the network on the test images: 54.79%\n"
          ]
        }
      ],
      "source": [
        "measure_sparsity(net_prune_glob)\n",
        "\n",
        "score = calculate_accuracy(net_prune_glob, testloader)\n",
        "print('Accuracy of the network on the test images: {}%'.format(score))"
      ]
    },
    {
      "cell_type": "markdown",
      "metadata": {
        "id": "giVjq-vyupED"
      },
      "source": [
        "### **TODO 4:** Iterative Pruning\n",
        "\n",
        "To maintain the model's effectiveness post-pruning, we adopt an iterative approach that combines pruning and fine-tuning. Your task involves completing the `iterative_pruning` function. This process involves repeatedly pruning the model using `global_unstructured` method, followed by fine-tuning model of one epoch to adjust to the changes (and print the sparsity information at the end of each iteration). The goal is to selectively reduce the model's complexity while preserving the performance.\n"
      ]
    },
    {
      "cell_type": "code",
      "execution_count": 20,
      "metadata": {
        "id": "pWFBn9w3FkCz"
      },
      "outputs": [],
      "source": [
        "def iter_pruning(model: nn.Module,\n",
        "                 train_loader: DataLoader,\n",
        "                 num_iter: int,\n",
        "                 prune_ratio: float):\n",
        "    \"\"\"\n",
        "    The iterative process of pruning and finetuning.\n",
        "\n",
        "    Args:\n",
        "    - model         (nn.Module): The neural network model to be pruned.\n",
        "    - train_loader (DataLoader): DataLoader object providing the training dataset.\n",
        "    - test_loader  (DataLoader): DataLoader object providing the test dataset.\n",
        "    - num_iter            (int): The number of the iterations\n",
        "    - prune_ratio       (float): The pruning ratio in each iteration\n",
        "\n",
        "    \"\"\"\n",
        "\n",
        "    # TODO: Add your code here.\n",
        "    parameters_to_prune = [(m, 'weight') for m in model.modules()\n",
        "                           if isinstance(m, (nn.Conv2d, nn.Linear))]\n",
        "\n",
        "    for i in range(num_iter):\n",
        "        print(f\"\\n=== Iteration {i + 1}/{num_iter} ===\")\n",
        "\n",
        "        # Global unstructured pruning\n",
        "        prune.global_unstructured(\n",
        "            parameters_to_prune,\n",
        "            pruning_method=prune.L1Unstructured,\n",
        "            amount=prune_ratio\n",
        "        )\n",
        "\n",
        "        # Fine-tune for 1 epoch\n",
        "        train(model,trainloader, 1)\n",
        "\n",
        "        # Calculate and print global sparsity\n",
        "        measure_sparsity(model)"
      ]
    },
    {
      "cell_type": "code",
      "execution_count": 21,
      "metadata": {
        "colab": {
          "base_uri": "https://localhost:8080/"
        },
        "id": "wGfpGQDQtm6j",
        "outputId": "e715d643-b70f-4234-eefc-7e0807707b01"
      },
      "outputs": [
        {
          "output_type": "stream",
          "name": "stdout",
          "text": [
            "\n",
            "=== Iteration 1/3 ===\n",
            "[1,  2000] loss: 1.234\n",
            "[1,  4000] loss: 1.225\n",
            "[1,  6000] loss: 1.234\n",
            "[1,  8000] loss: 1.206\n",
            "[1, 10000] loss: 1.227\n",
            "[1, 12000] loss: 1.229\n",
            "Finished Training\n",
            "Sparsity in conv1weight: 4.44%\n",
            "Sparsity in conv2weight: 9.04%\n",
            "Sparsity in fc1weight: 22.38%\n",
            "Sparsity in fc2weight: 12.89%\n",
            "Sparsity in fc3weight: 8.93%\n",
            "Global Sparsity: 20.00%\n",
            "\n",
            "=== Iteration 2/3 ===\n",
            "[1,  2000] loss: 1.129\n",
            "[1,  4000] loss: 1.142\n",
            "[1,  6000] loss: 1.110\n",
            "[1,  8000] loss: 1.122\n",
            "[1, 10000] loss: 1.121\n",
            "[1, 12000] loss: 1.136\n",
            "Finished Training\n",
            "Sparsity in conv1weight: 8.67%\n",
            "Sparsity in conv2weight: 17.21%\n",
            "Sparsity in fc1weight: 39.86%\n",
            "Sparsity in fc2weight: 24.96%\n",
            "Sparsity in fc3weight: 16.19%\n",
            "Global Sparsity: 36.00%\n",
            "\n",
            "=== Iteration 3/3 ===\n",
            "[1,  2000] loss: 1.042\n",
            "[1,  4000] loss: 1.052\n",
            "[1,  6000] loss: 1.043\n",
            "[1,  8000] loss: 1.059\n",
            "[1, 10000] loss: 1.056\n",
            "[1, 12000] loss: 1.023\n",
            "Finished Training\n",
            "Sparsity in conv1weight: 13.78%\n",
            "Sparsity in conv2weight: 25.25%\n",
            "Sparsity in fc1weight: 53.21%\n",
            "Sparsity in fc2weight: 37.00%\n",
            "Sparsity in fc3weight: 24.40%\n",
            "Global Sparsity: 48.80%\n"
          ]
        }
      ],
      "source": [
        "net_prune_iter = copy.deepcopy(net)\n",
        "iter_pruning(net_prune_iter, trainloader, 3, 0.2)"
      ]
    },
    {
      "cell_type": "code",
      "execution_count": 22,
      "metadata": {
        "id": "imyvSJXOe-A0",
        "outputId": "0931007d-446d-414b-865e-6c208777f4ad",
        "colab": {
          "base_uri": "https://localhost:8080/"
        }
      },
      "outputs": [
        {
          "output_type": "stream",
          "name": "stdout",
          "text": [
            "Accuracy of the network on the test images: 54.79%\n"
          ]
        }
      ],
      "source": [
        "score = calculate_accuracy(net_prune_glob, testloader)\n",
        "print('Accuracy of the network on the test images: {}%'.format(score))"
      ]
    }
  ],
  "metadata": {
    "colab": {
      "provenance": [],
      "toc_visible": true,
      "include_colab_link": true
    },
    "kernelspec": {
      "display_name": "Python 3",
      "name": "python3"
    },
    "language_info": {
      "codemirror_mode": {
        "name": "ipython",
        "version": 3
      },
      "file_extension": ".py",
      "mimetype": "text/x-python",
      "name": "python",
      "nbconvert_exporter": "python",
      "pygments_lexer": "ipython3",
      "version": "3.9.18"
    }
  },
  "nbformat": 4,
  "nbformat_minor": 0
}