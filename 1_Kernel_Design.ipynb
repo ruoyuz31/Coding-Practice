{
  "cells": [
    {
      "cell_type": "markdown",
      "metadata": {
        "id": "Tf7xy8JvRapf"
      },
      "source": [
        "# EE 508 HW 3 Part 1: Kernel Design\n",
        "\n",
        "Your task in this Colab notebook is to fill out the sections that are specified by **TODO** (please search the keyword `TODO` to make sure you do not miss any)."
      ]
    },
    {
      "cell_type": "markdown",
      "metadata": {
        "id": "l31We0QqlVS-"
      },
      "source": [
        "Install the `Ninja` package in Colab used for building PyTorch kernels and import all required packages."
      ]
    },
    {
      "cell_type": "code",
      "execution_count": 1,
      "metadata": {
        "colab": {
          "base_uri": "https://localhost:8080/"
        },
        "id": "_o3kBpdYcS4R",
        "outputId": "c95475fc-3715-4852-e9bb-3fe65b0c6662"
      },
      "outputs": [
        {
          "output_type": "stream",
          "name": "stdout",
          "text": [
            "Collecting Ninja\n",
            "  Downloading ninja-1.11.1.3-py3-none-manylinux_2_12_x86_64.manylinux2010_x86_64.whl.metadata (5.3 kB)\n",
            "Downloading ninja-1.11.1.3-py3-none-manylinux_2_12_x86_64.manylinux2010_x86_64.whl (422 kB)\n",
            "\u001b[?25l   \u001b[90m━━━━━━━━━━━━━━━━━━━━━━━━━━━━━━━━━━━━━━━━\u001b[0m \u001b[32m0.0/422.9 kB\u001b[0m \u001b[31m?\u001b[0m eta \u001b[36m-:--:--\u001b[0m\r\u001b[2K   \u001b[91m━━━━━━━━━━━━━━━━━━━━━━━━━━━━━\u001b[0m\u001b[90m╺\u001b[0m\u001b[90m━━━━━━━━━━\u001b[0m \u001b[32m307.2/422.9 kB\u001b[0m \u001b[31m9.6 MB/s\u001b[0m eta \u001b[36m0:00:01\u001b[0m\r\u001b[2K   \u001b[90m━━━━━━━━━━━━━━━━━━━━━━━━━━━━━━━━━━━━━━━━\u001b[0m \u001b[32m422.9/422.9 kB\u001b[0m \u001b[31m7.4 MB/s\u001b[0m eta \u001b[36m0:00:00\u001b[0m\n",
            "\u001b[?25hInstalling collected packages: Ninja\n",
            "Successfully installed Ninja-1.11.1.3\n"
          ]
        }
      ],
      "source": [
        "!pip install Ninja"
      ]
    },
    {
      "cell_type": "code",
      "execution_count": 2,
      "metadata": {
        "colab": {
          "base_uri": "https://localhost:8080/"
        },
        "id": "wm2vufS4cRwB",
        "outputId": "1bd84bb4-8318-4cee-d0e8-698e67ac4df0"
      },
      "outputs": [
        {
          "output_type": "stream",
          "name": "stderr",
          "text": [
            "No CUDA runtime is found, using CUDA_HOME='/usr/local/cuda'\n"
          ]
        }
      ],
      "source": [
        "import torch\n",
        "import torch.nn.functional as F\n",
        "\n",
        "from torch.utils.cpp_extension import load_inline\n",
        "import time"
      ]
    },
    {
      "cell_type": "markdown",
      "metadata": {
        "id": "UVX15GjxRapg"
      },
      "source": [
        "## Im2col Algorithm\n",
        "\n",
        "\n",
        "`Im2col` is a method used in CNNs to transform the input data and filters into a format that allows the convolution to be expressed as a matrix multiplication. This transformation can simplify the implementation of convolution and leverage highly optimized matrix multiplication routines such as BLAS library.\n",
        "\n",
        "In the class and discussion, we have covered the `im2col` algorithm for 2D input with 2D filter. In this section, we extend and implement the `im2col` algorithm for 4D input with 4D filters."
      ]
    },
    {
      "cell_type": "markdown",
      "metadata": {
        "id": "l7d3Wm0aRaph"
      },
      "source": [
        "### **TODO 1**:\n",
        "\n",
        "Implement the `im2col` operation to transform the 4D input and filter tensors into two 2D matrices. After matrix multiplication, reshape the result back into a 4D tensor to simulate the convolution operation."
      ]
    },
    {
      "cell_type": "code",
      "execution_count": 3,
      "metadata": {
        "id": "NK_g-XcncRwB"
      },
      "outputs": [],
      "source": [
        "def im2col_conv2d(input, filter, stride=1, padding=0):\n",
        "    \"\"\"\n",
        "    Perform a convolution operation using im2col transformation.\n",
        "\n",
        "    Parameters:\n",
        "    - input: Tensor of shape (N, C, H, W) -> Input image batch\n",
        "    - filter: Tensor of shape (K, C, KH, KW) -> Convolution filters\n",
        "    - stride: Stride of the convolution\n",
        "    - padding: Padding around the input\n",
        "\n",
        "    Returns:\n",
        "    - output_im2col: Tensor of shape (N, K, OH, OW) -> Convolution output\n",
        "    \"\"\"\n",
        "\n",
        "    # Extract dimensions\n",
        "    N, C, H, W = input.shape\n",
        "    K, _, KH, KW = filter.shape\n",
        "\n",
        "    # Pad the input if necessary\n",
        "    if padding > 0:\n",
        "        input = F.pad(input, (padding, padding, padding, padding))\n",
        "\n",
        "    # Compute output height and width\n",
        "    OH = (H + 2 * padding - KH) // stride + 1\n",
        "    OW = (W + 2 * padding - KW) // stride + 1\n",
        "\n",
        "    # Initialize toeplitz tensor (im2col representation)\n",
        "    toeplitz = torch.zeros((C*KH*KW, N*OH*OW))\n",
        "\n",
        "    # Perform im2col transformation and store in toeplitz tensor\n",
        "    col = 0\n",
        "    for i in range(N):\n",
        "            for j in range(OH):\n",
        "                for k in range(OW):\n",
        "                        block = input[i, :, j*stride:j*stride+KH, k*stride:k*stride+KW].flatten()\n",
        "                        toeplitz[:, col] = block\n",
        "                        col += 1\n",
        "\n",
        "\n",
        "    # Reshape filter and toeplitz tensor for matrix multiplication\n",
        "    filter = filter.reshape(K,C*KH*KW)\n",
        "\n",
        "    # Compute output by matrix multiplication\n",
        "    output_im2col = torch.matmul(filter,toeplitz)\n",
        "\n",
        "    # Reshape output\n",
        "    output_im2col = output_im2col.reshape([K,N,OH,OW]).transpose(0,1)\n",
        "\n",
        "    return output_im2col"
      ]
    },
    {
      "cell_type": "markdown",
      "metadata": {
        "id": "yyQjlTxccRwB"
      },
      "source": [
        "Let's perform some tests. The results returned by `im2col_conv2d` function should match the results returned by PyTorch."
      ]
    },
    {
      "cell_type": "code",
      "execution_count": 4,
      "metadata": {
        "colab": {
          "base_uri": "https://localhost:8080/"
        },
        "id": "YvlJ9lMecRwB",
        "outputId": "d4fbcaa0-7dd1-4fe5-93a4-ea20665002dd"
      },
      "outputs": [
        {
          "output_type": "stream",
          "name": "stdout",
          "text": [
            "Results are matched: True\n"
          ]
        }
      ],
      "source": [
        "# Test case 1 with stride=1 and padding=0\n",
        "N, C, H, W = 4, 3, 5, 5  # Input dimensions\n",
        "K, _, KH, KW = 2, C, 3, 3  # Filter dimensions\n",
        "\n",
        "# Create random input and filter tensors\n",
        "torch.manual_seed(508)\n",
        "input_tensor = torch.randn(N, C, H, W)\n",
        "filter_tensor = torch.randn(K, C, KH, KW)\n",
        "\n",
        "# Perform convolution using im2col\n",
        "my_results = im2col_conv2d(input_tensor, filter_tensor, stride=1, padding=0)\n",
        "\n",
        "# Perform convolution using PyTorch\n",
        "pt_results = F.conv2d(input_tensor, filter_tensor, stride=1, padding=0)\n",
        "\n",
        "# Compare results\n",
        "print(\"Results are matched:\", torch.allclose(my_results, pt_results, atol=1e-6))"
      ]
    },
    {
      "cell_type": "code",
      "execution_count": 5,
      "metadata": {
        "colab": {
          "base_uri": "https://localhost:8080/"
        },
        "id": "dKCWW8c8cRwC",
        "outputId": "67f23354-fd1e-4f95-f47a-a0f174551a7c"
      },
      "outputs": [
        {
          "output_type": "stream",
          "name": "stdout",
          "text": [
            "Results are matched: True\n"
          ]
        }
      ],
      "source": [
        "# Test case 2 with stride=2 and padding=1\n",
        "# Perform convolution using im2col\n",
        "my_results = im2col_conv2d(input_tensor, filter_tensor, stride=2, padding=1)\n",
        "\n",
        "# Perform convolution using PyTorch\n",
        "pt_results = F.conv2d(input_tensor, filter_tensor, stride=2, padding=1)\n",
        "\n",
        "# Compare results\n",
        "print(\"Results are matched:\", torch.allclose(my_results, pt_results, atol=1e-6))"
      ]
    },
    {
      "cell_type": "markdown",
      "metadata": {
        "id": "-6xZDfekcRwC"
      },
      "source": [
        "## PyTorch C++ Extension\n",
        "\n",
        "## Reordered Matrix Multiplication\n",
        "Matrix multiplication is one of the most critical operations in neural networks. While PyTorch provides a highly optimized `matmul` operator, re-implementing it from scratch can provide deeper insights into performance tuning. In this section, we will demonstrate how to implement a naive matrix multiplication (ijk ordered) kernel on CPU backend and integrate it with PyTorch.\n",
        "\n",
        "The code below demonstrates how to build PyTorch C++ extensions using just-in-time (JIT) compilation. The JIT compilation mechanism provides you with a way of compiling and loading your extensions on the fly using PyTorch's API `torch.utils.cpp_extension.load()` or `torch.utils.cpp_extension.load_inline()`.\n",
        "\n",
        "* `torch.utils.cpp_extension.load()` requires writing the C++ source code to a file and loading it from the filesystem.\n",
        "* `torch.utils.cpp_extension.load_inline()` functions similarly but takes the source code as a string rather than a file, which is the approach we will use."
      ]
    },
    {
      "cell_type": "code",
      "execution_count": 6,
      "metadata": {
        "id": "QWi-vriJg942"
      },
      "outputs": [],
      "source": [
        "cpp_source = \"\"\"\n",
        "torch::Tensor my_ijk_matmul(torch::Tensor a, torch::Tensor b) {\n",
        "    TORCH_CHECK(a.dim() == 2 && b.dim() == 2, \"Inputs must be 2D tensors.\");\n",
        "    TORCH_CHECK(a.dtype() == torch::kFloat32 && b.dtype() == torch::kFloat32, \"Inputs must be of type float32.\");\n",
        "    TORCH_CHECK(a.size(1) == b.size(0), \"Inner dimensions must match.\");\n",
        "\n",
        "    int m = a.size(0);\n",
        "    int n = a.size(1);\n",
        "    int p = b.size(1);\n",
        "\n",
        "    // Extract raw pointers to input tensors\n",
        "    const float* a_ptr = a.data_ptr<float>();\n",
        "    const float* b_ptr = b.data_ptr<float>();\n",
        "\n",
        "    // Define output tensor using torch::zeros (initialize with 0)\n",
        "    torch::Tensor output = torch::zeros({m, p}, a.options());\n",
        "    float* output_ptr = output.data_ptr<float>();\n",
        "\n",
        "    // Perform ijk-ordered matrix multiplication (output-stationary)\n",
        "    for (int i = 0; i < m; ++i) {\n",
        "        for (int j = 0; j < p; ++j) {\n",
        "            float sum = 0.0;  // Accumulator for C(i, j)\n",
        "            for (int k = 0; k < n; ++k) {\n",
        "                sum += a_ptr[i * n + k] * b_ptr[k * p + j];\n",
        "            }\n",
        "            output_ptr[i * p + j] = sum;\n",
        "        }\n",
        "    }\n",
        "\n",
        "    return output;\n",
        "}\n",
        "\"\"\"\n",
        "\n",
        "# Load the extension\n",
        "my_kernel_lib = load_inline(\n",
        "    name=\"cpp_extension\",\n",
        "    cpp_sources=cpp_source,\n",
        "    functions=\"my_ijk_matmul\",\n",
        "    extra_cflags=['-O2'],\n",
        ")"
      ]
    },
    {
      "cell_type": "markdown",
      "metadata": {
        "id": "kDuErBr3cRwC"
      },
      "source": [
        "The kernel library has been loaded. Before testing it, we define some helper functions first."
      ]
    },
    {
      "cell_type": "code",
      "execution_count": 7,
      "metadata": {
        "id": "zxexARH_cRwC"
      },
      "outputs": [],
      "source": [
        "def check_correctness(func):\n",
        "    \"\"\"\n",
        "    Check correctness of the custom kernel.\n",
        "    \"\"\"\n",
        "    # Define input tensors\n",
        "    torch.manual_seed(508)\n",
        "    A = torch.randn(32, 32, dtype=torch.float32)\n",
        "    B = torch.randn(32, 32, dtype=torch.float32)\n",
        "\n",
        "    # Perform matrix multiplication using the custom kernel\n",
        "    my_results = func(A, B)\n",
        "\n",
        "    # Perform matrix multiplication using PyTorch\n",
        "    pt_results = torch.matmul(A, B)\n",
        "\n",
        "    # Compare results\n",
        "    if torch.allclose(my_results, pt_results, atol=1e-6):\n",
        "        print(\"Results match!\")\n",
        "    else:\n",
        "        print(\"Results do not match!\")\n",
        "        print(f\"my_results: {my_results}\")\n",
        "        print(f\"pt_results: {pt_results}\")\n",
        "\n",
        "\n",
        "def benchmark_matmul(func, num_runs=3, warmup_runs=3, size=1024):\n",
        "    \"\"\"\n",
        "    Benchmark a matrix multiplication function and compare it with PyTorch's matmul.\n",
        "\n",
        "    Parameters:\n",
        "    - func: The custom function to benchmark.\n",
        "    - num_runs: Number of timed executions for measurement.\n",
        "    - warmup_runs: Number of warm-up executions.\n",
        "    - size: Matrix dimension (size x size).\n",
        "\n",
        "    Returns:\n",
        "    - None (prints benchmark results)\n",
        "    \"\"\"\n",
        "\n",
        "    # Define input tensors\n",
        "    torch.manual_seed(508)\n",
        "    A = torch.randn(size, size, dtype=torch.float32)\n",
        "    B = torch.randn(size, size, dtype=torch.float32)\n",
        "\n",
        "    def measure_flops(kernel_func):\n",
        "        \"\"\"Helper function to measure FLOPs per second for a given function.\"\"\"\n",
        "\n",
        "        # Warm-up phase\n",
        "        for _ in range(warmup_runs):\n",
        "            kernel_func(A, B)\n",
        "\n",
        "        # Measure execution time over multiple runs\n",
        "        start_time = time.time()\n",
        "        for _ in range(num_runs):\n",
        "            kernel_func(A, B)\n",
        "        end_time = time.time()\n",
        "\n",
        "        # Compute average time per run\n",
        "        avg_time = (end_time - start_time) / num_runs\n",
        "\n",
        "        # Estimate FLOPs: 2 * (m * n * p) for standard matrix multiplication\n",
        "        flops = 2 * size * size * size\n",
        "        flops_per_sec = flops / avg_time\n",
        "\n",
        "        return flops_per_sec, avg_time\n",
        "\n",
        "    # Benchmark the custom kernel\n",
        "    print(\"Benchmarking custom kernel...\")\n",
        "    flops_per_sec, avg_time = measure_flops(func)\n",
        "    print(f\"My kernel GFLOPs per second: {(flops_per_sec * 1e-9):.5f}, Average time: {avg_time:.5f} sec\")\n",
        "\n",
        "    # Benchmark PyTorch's matmul\n",
        "    print(\"\\nBenchmarking PyTorch matmul...\")\n",
        "    flops_per_sec, avg_time = measure_flops(torch.matmul)\n",
        "    print(f\"PyTorch GFLOPs per second: {(flops_per_sec * 1e-9):.5f}, Average time: {avg_time:.5f} sec\")"
      ]
    },
    {
      "cell_type": "markdown",
      "metadata": {
        "id": "qAKo6KUvc0Gl"
      },
      "source": [
        "Let's compare the results returned by our customized kernel implmentation with the correct results returned by PyTorch."
      ]
    },
    {
      "cell_type": "code",
      "execution_count": 8,
      "metadata": {
        "colab": {
          "base_uri": "https://localhost:8080/"
        },
        "id": "9jBpqPdOcRwC",
        "outputId": "0f78123b-c22b-42ad-a0ac-61db8b596ec8"
      },
      "outputs": [
        {
          "output_type": "stream",
          "name": "stdout",
          "text": [
            "Results match!\n"
          ]
        }
      ],
      "source": [
        "check_correctness(my_kernel_lib.my_ijk_matmul)"
      ]
    },
    {
      "cell_type": "markdown",
      "metadata": {
        "id": "eIcdNkyRc_lz"
      },
      "source": [
        "Benchmark the performance. This will take less one minute to finish, and you will find out that this implementation is about 25 times slower than PyTorch's built-in kernel!"
      ]
    },
    {
      "cell_type": "code",
      "execution_count": 9,
      "metadata": {
        "colab": {
          "base_uri": "https://localhost:8080/"
        },
        "id": "RsMnHQC4cRwC",
        "outputId": "8d1fb6df-accc-409e-a370-96a8117b1ebf"
      },
      "outputs": [
        {
          "output_type": "stream",
          "name": "stdout",
          "text": [
            "Benchmarking custom kernel...\n",
            "My kernel GFLOPs per second: 0.42848, Average time: 5.01189 sec\n",
            "\n",
            "Benchmarking PyTorch matmul...\n",
            "PyTorch GFLOPs per second: 88.71087, Average time: 0.02421 sec\n"
          ]
        }
      ],
      "source": [
        "benchmark_matmul(my_kernel_lib.my_ijk_matmul)"
      ]
    },
    {
      "cell_type": "markdown",
      "metadata": {
        "id": "zjvK7FSObdOG"
      },
      "source": [
        "### **TODO 2:**\n",
        "Implement **jki** ordered matmul kernel using the template below."
      ]
    },
    {
      "cell_type": "code",
      "execution_count": 12,
      "metadata": {
        "id": "nz_R-Nbfh_KN"
      },
      "outputs": [],
      "source": [
        "cpp_source = \"\"\"\n",
        "torch::Tensor my_jki_matmul(torch::Tensor a, torch::Tensor b) {\n",
        "    TORCH_CHECK(a.dim() == 2 && b.dim() == 2, \"Inputs must be 2D tensors.\");\n",
        "    TORCH_CHECK(a.dtype() == torch::kFloat32 && b.dtype() == torch::kFloat32, \"Inputs must be of type float32.\");\n",
        "    TORCH_CHECK(a.size(1) == b.size(0), \"Inner dimensions must match.\");\n",
        "\n",
        "    int m = a.size(0);\n",
        "    int n = a.size(1);\n",
        "    int p = b.size(1);\n",
        "\n",
        "    // Extract raw pointers to input tensors\n",
        "    const float* a_ptr = a.data_ptr<float>();\n",
        "    const float* b_ptr = b.data_ptr<float>();\n",
        "\n",
        "    // Define output tensor using torch::zeros (initialize with 0)\n",
        "    torch::Tensor output = torch::zeros({m, p}, a.options());\n",
        "    float* output_ptr = output.data_ptr<float>();\n",
        "\n",
        "    // Perform jki-ordered matrix multiplication (B-stationary)\n",
        "    for (int j = 0; j < p; ++j) {\n",
        "        for (int k = 0; k < n; ++k) {\n",
        "            float b_jk = b_ptr[k * p + j];\n",
        "            for (int i = 0; i < m; ++i) {\n",
        "                output_ptr[i * p + j] += a_ptr[i * n + k] * b_jk;\n",
        "            }\n",
        "        }\n",
        "    }\n",
        "\n",
        "    return output;\n",
        "}\n",
        "\"\"\"\n",
        "\n",
        "\n",
        "# Load the extension\n",
        "my_kernel_lib = load_inline(\n",
        "    name=\"cpp_extension\",\n",
        "    cpp_sources=cpp_source,\n",
        "    functions=\"my_jki_matmul\",\n",
        "    extra_cflags=['-O2'],\n",
        ")"
      ]
    },
    {
      "cell_type": "markdown",
      "metadata": {
        "id": "rR2olXiGbTT4"
      },
      "source": [
        "We check correctness first and then benchmark it as previous example."
      ]
    },
    {
      "cell_type": "code",
      "execution_count": 13,
      "metadata": {
        "colab": {
          "base_uri": "https://localhost:8080/"
        },
        "id": "qEP5ahpKcS2c",
        "outputId": "c208bfc2-ef84-462a-aa64-1398b641f255"
      },
      "outputs": [
        {
          "output_type": "stream",
          "name": "stdout",
          "text": [
            "Results match!\n",
            "Benchmarking custom kernel...\n",
            "My kernel GFLOPs per second: 0.13617, Average time: 15.77076 sec\n",
            "\n",
            "Benchmarking PyTorch matmul...\n",
            "PyTorch GFLOPs per second: 88.11324, Average time: 0.02437 sec\n"
          ]
        }
      ],
      "source": [
        "check_correctness(my_kernel_lib.my_jki_matmul)\n",
        "benchmark_matmul(my_kernel_lib.my_jki_matmul)"
      ]
    },
    {
      "cell_type": "markdown",
      "metadata": {
        "id": "2odyFKd4bH_R"
      },
      "source": [
        "### **TODO 3:**\n",
        "Implement **ikj** ordered matmul kernel using the template below."
      ]
    },
    {
      "cell_type": "code",
      "execution_count": 14,
      "metadata": {
        "id": "D0lRuUEecRwC"
      },
      "outputs": [],
      "source": [
        "cpp_source = \"\"\"\n",
        "torch::Tensor my_ikj_matmul(torch::Tensor a, torch::Tensor b) {\n",
        "    TORCH_CHECK(a.dim() == 2 && b.dim() == 2, \"Inputs must be 2D tensors.\");\n",
        "    TORCH_CHECK(a.dtype() == torch::kFloat32 && b.dtype() == torch::kFloat32, \"Inputs must be of type float32.\");\n",
        "    TORCH_CHECK(a.size(1) == b.size(0), \"Inner dimensions must match.\");\n",
        "\n",
        "    int m = a.size(0);\n",
        "    int n = a.size(1);\n",
        "    int p = b.size(1);\n",
        "\n",
        "    // Extract raw pointers to input tensors\n",
        "    const float* a_ptr = a.data_ptr<float>();\n",
        "    const float* b_ptr = b.data_ptr<float>();\n",
        "\n",
        "    // Define output tensor using torch::zeros (initialize with 0)\n",
        "    torch::Tensor output = torch::zeros({m, p}, a.options());\n",
        "    float* output_ptr = output.data_ptr<float>();\n",
        "\n",
        "    // Perform ikj-ordered matrix multiplication (A-stationary)\n",
        "    for (int i = 0; i < m; i++) {\n",
        "        for (int k = 0; k < n; k++) {\n",
        "            float a_ik = a_ptr[i * n + k];\n",
        "            for (int j = 0; j < p; j++) {\n",
        "                output_ptr[i * p + j] += a_ik * b_ptr[k * p + j];\n",
        "            }\n",
        "        }\n",
        "    }\n",
        "\n",
        "    return output;\n",
        "}\n",
        "\"\"\"\n",
        "\n",
        "# Load the extension\n",
        "my_kernel_lib = load_inline(\n",
        "    name=\"cpp_extension\",\n",
        "    cpp_sources=cpp_source,\n",
        "    functions=\"my_ikj_matmul\",\n",
        "    extra_cflags=['-O2'],\n",
        ")"
      ]
    },
    {
      "cell_type": "code",
      "execution_count": null,
      "metadata": {
        "id": "bJl0LBMMhMqp"
      },
      "outputs": [],
      "source": [
        "check_correctness(my_kernel_lib.my_ikj_matmul)\n",
        "benchmark_matmul(my_kernel_lib.my_ikj_matmul)"
      ]
    },
    {
      "cell_type": "markdown",
      "metadata": {
        "id": "xcYAhrAc9A6I"
      },
      "source": [
        "### **TODO 4:**\n",
        "Blocked matrix multiplication, also known as tiled matrix multiplication, can improve the temporal locality of inner loops. The general idea of blocking is to organize the data structures in a program into large chunks called blocks. (In this context, “block” refers to an application-level chunk of data, not to a cache block.) The program is structured so that it loads a chunk into the L1 cache, does all the reads and writes that it needs to on that chunk, then discards the chunk, loads in the next chunk, and so on.\n",
        "\n",
        "Implement **blocked ikj** ordered matmul kernel, with block size of 16, using the template below."
      ]
    },
    {
      "cell_type": "code",
      "execution_count": 15,
      "metadata": {
        "id": "MwczEMz69WPh"
      },
      "outputs": [],
      "source": [
        "cpp_source = \"\"\"\n",
        "#define BLOCK_SIZE 16\n",
        "\n",
        "torch::Tensor my_blocked_ikj_matmul(torch::Tensor a, torch::Tensor b) {\n",
        "    TORCH_CHECK(a.dim() == 2 && b.dim() == 2, \"Inputs must be 2D tensors.\");\n",
        "    TORCH_CHECK(a.dtype() == torch::kFloat32 && b.dtype() == torch::kFloat32, \"Inputs must be of type float32.\");\n",
        "    TORCH_CHECK(a.size(1) == b.size(0), \"Inner dimensions must match.\");\n",
        "\n",
        "    int m = a.size(0);\n",
        "    int n = a.size(1);\n",
        "    int p = b.size(1);\n",
        "\n",
        "    // Extract raw pointers to input tensors\n",
        "    const float* a_ptr = a.data_ptr<float>();\n",
        "    const float* b_ptr = b.data_ptr<float>();\n",
        "\n",
        "    // Define output tensor using torch::zeros (initialize with 0)\n",
        "    torch::Tensor output = torch::zeros({m, p}, a.options());\n",
        "    float* output_ptr = output.data_ptr<float>();\n",
        "\n",
        "    // Blocked Matrix Multiplication\n",
        "    for (int i = 0; i < m; i += BLOCK_SIZE) {\n",
        "        for (int j = 0; j < p; j += BLOCK_SIZE) {\n",
        "            for (int k = 0; k < n; k += BLOCK_SIZE){\n",
        "                for (int ii = i; ii < std::min(i + BLOCK_SIZE, m); ii++) {\n",
        "                    for (int kk = k; kk < std::min(k + BLOCK_SIZE, n); kk++) {\n",
        "                        float a_ik = a_ptr[ii * n + kk];\n",
        "                        for (int jj = j; jj < std::min(j + BLOCK_SIZE, p); jj++) {\n",
        "                            output_ptr[ii * p + jj] += a_ik * b_ptr[kk * p + jj];\n",
        "                        }\n",
        "                    }\n",
        "                }\n",
        "            }\n",
        "        }\n",
        "    }\n",
        "\n",
        "    return output;\n",
        "}\n",
        "\"\"\"\n",
        "\n",
        "# Load the extension\n",
        "my_kernel_lib = load_inline(\n",
        "    name=\"cpp_extension\",\n",
        "    cpp_sources=cpp_source,\n",
        "    functions=\"my_blocked_ikj_matmul\",\n",
        "    extra_cflags=['-O2'],\n",
        ")"
      ]
    },
    {
      "cell_type": "code",
      "execution_count": 16,
      "metadata": {
        "colab": {
          "base_uri": "https://localhost:8080/"
        },
        "id": "3mW9jbi59fMW",
        "outputId": "974b0545-2600-4485-ff70-d7e2f9b43e0c"
      },
      "outputs": [
        {
          "output_type": "stream",
          "name": "stdout",
          "text": [
            "Results match!\n",
            "Benchmarking custom kernel...\n",
            "My kernel GFLOPs per second: 4.14006, Average time: 0.51871 sec\n",
            "\n",
            "Benchmarking PyTorch matmul...\n",
            "PyTorch GFLOPs per second: 89.60158, Average time: 0.02397 sec\n"
          ]
        }
      ],
      "source": [
        "check_correctness(my_kernel_lib.my_blocked_ikj_matmul)\n",
        "benchmark_matmul(my_kernel_lib.my_blocked_ikj_matmul)"
      ]
    },
    {
      "cell_type": "markdown",
      "metadata": {
        "id": "_7GhQss-Rapi"
      },
      "source": [
        "## Data Parallel with SIMD\n",
        "\n",
        "Intel AVX (Advanced Vector Extensions) instructions are Single Instruction Multiple Data (SIMD) instructions that can process 8 single precision or 4 double precision floating-point operands in a single instruction."
      ]
    },
    {
      "cell_type": "markdown",
      "metadata": {
        "id": "xTIUDCTQRapj"
      },
      "source": [
        "### **TODO 5:**\n",
        "\n",
        "Add Intel AVX SIMD (8xFP32) to implement **non-blocked ikj** ordered matmul using the template below."
      ]
    },
    {
      "cell_type": "code",
      "execution_count": 17,
      "metadata": {
        "id": "5m6ngTSjcRwD"
      },
      "outputs": [],
      "source": [
        "cpp_source = \"\"\"\n",
        "#include <immintrin.h>  // AVX intrinsics\n",
        "\n",
        "torch::Tensor my_avx_ikj_matmul(torch::Tensor a, torch::Tensor b) {\n",
        "    TORCH_CHECK(a.dim() == 2 && b.dim() == 2, \"Inputs must be 2D tensors.\");\n",
        "    TORCH_CHECK(a.dtype() == torch::kFloat32 && b.dtype() == torch::kFloat32, \"Inputs must be of type float32.\");\n",
        "    TORCH_CHECK(a.size(1) == b.size(0), \"Inner dimensions must match.\");\n",
        "\n",
        "    int m = a.size(0);\n",
        "    int n = a.size(1);\n",
        "    int p = b.size(1);\n",
        "\n",
        "    // Extract raw pointers to input tensors\n",
        "    const float* a_ptr = a.data_ptr<float>();\n",
        "    const float* b_ptr = b.data_ptr<float>();\n",
        "\n",
        "    // Define output tensor using torch::zeros (initialize with 0)\n",
        "    torch::Tensor output = torch::zeros({m, p}, a.options());\n",
        "    float* output_ptr = output.data_ptr<float>();\n",
        "\n",
        "    // Perform ikj-ordered matrix multiplication with AVX\n",
        "    for (int i = 0; i < m; i++) {\n",
        "        for (int k = 0; k < n; k++) {\n",
        "            float a_ik = a_ptr[i * n + k];\n",
        "            __m256 a_vec = _mm256_set1_ps(a_ik);\n",
        "\n",
        "            int j = 0;\n",
        "            for (; j <= p - 8; j += 8) {\n",
        "                __m256 b_vec = _mm256_loadu_ps(&b_ptr[k * p + j]);\n",
        "                __m256 c_vec = _mm256_loadu_ps(&output_ptr[i * p + j]);\n",
        "                c_vec = _mm256_fmadd_ps(a_vec, b_vec, c_vec);\n",
        "                _mm256_storeu_ps(&output_ptr[i * p + j], c_vec);\n",
        "            }\n",
        "\n",
        "            for (; j < p; j++) {\n",
        "                output_ptr[i * p + j] += a_ik * b_ptr[k * p + j];\n",
        "            }\n",
        "        }\n",
        "    }\n",
        "\n",
        "    return output;\n",
        "}\n",
        "\"\"\"\n",
        "\n",
        "# Load the extension\n",
        "my_kernel_lib = load_inline(\n",
        "    name=\"cpp_extension\",\n",
        "    cpp_sources=cpp_source,\n",
        "    functions=\"my_avx_ikj_matmul\",\n",
        "    extra_cflags=[\"-mavx\", \"-mfma\", \"-O2\"],\n",
        ")"
      ]
    },
    {
      "cell_type": "code",
      "execution_count": 18,
      "metadata": {
        "colab": {
          "base_uri": "https://localhost:8080/"
        },
        "id": "GXvl9p8lcQWH",
        "outputId": "64b8d62f-0132-4f27-ab63-c732f2e84abc"
      },
      "outputs": [
        {
          "output_type": "stream",
          "name": "stdout",
          "text": [
            "Results match!\n",
            "Benchmarking custom kernel...\n",
            "My kernel GFLOPs per second: 20.96646, Average time: 0.10242 sec\n",
            "\n",
            "Benchmarking PyTorch matmul...\n",
            "PyTorch GFLOPs per second: 92.47290, Average time: 0.02322 sec\n"
          ]
        }
      ],
      "source": [
        "check_correctness(my_kernel_lib.my_avx_ikj_matmul)\n",
        "benchmark_matmul(my_kernel_lib.my_avx_ikj_matmul)"
      ]
    },
    {
      "cell_type": "markdown",
      "metadata": {
        "id": "Mn6IBNdulVTH"
      },
      "source": [
        "## Multi-threading\n",
        "The `<thread>` library is a part of the C++11 standard library that provides classes and functions to manage threads. Using this library, you can create, manage, and synchronize threads directly from C++ code, which enables concurrent execution paths within your applications.\n",
        "\n",
        "### **TODO 6:**\n",
        "To further enhance the performance of the previous AVX implementation, employ multithreading by allocating two threads to execute the matrix multiplication concurrently. Each thread is assigned to process a distinct portion of matrix A: one thread handles the upper half, and the other handles the lower half."
      ]
    },
    {
      "cell_type": "code",
      "execution_count": null,
      "metadata": {
        "id": "oUo0QZ3XlVTH"
      },
      "outputs": [],
      "source": [
        "cpp_source = \"\"\"\n",
        "#include <immintrin.h>  // AVX intrinsics\n",
        "#include <torch/extension.h>\n",
        "#include <vector>\n",
        "#include <thread>\n",
        "\n",
        "void thread_worker(const float* a_ptr, const float* b_ptr, float* output_ptr, int m_start, int m_end, int n, int p) {\n",
        "\n",
        "\n",
        "}\n",
        "\n",
        "torch::Tensor my_mt_avx_ikj_matmul(torch::Tensor a, torch::Tensor b) {\n",
        "    TORCH_CHECK(a.dim() == 2 && b.dim() == 2, \"Inputs must be 2D tensors.\");\n",
        "    TORCH_CHECK(a.dtype() == torch::kFloat32 && b.dtype() == torch::kFloat32, \"Inputs must be of type float32.\");\n",
        "    TORCH_CHECK(a.size(1) == b.size(0), \"Inner dimensions must match.\");\n",
        "\n",
        "    int m = a.size(0);\n",
        "    int n = a.size(1);\n",
        "    int p = b.size(1);\n",
        "\n",
        "    // Extract raw pointers to input tensors\n",
        "    const float* a_ptr = a.data_ptr<float>();\n",
        "    const float* b_ptr = b.data_ptr<float>();\n",
        "\n",
        "    // Define output tensor using torch::zeros (initialize with 0)\n",
        "    torch::Tensor output = torch::zeros({m, p}, a.options());\n",
        "    float* output_ptr = output.data_ptr<float>();\n",
        "\n",
        "    // Create two threads to parallelize over rows of A\n",
        "    int mid = m / 2;\n",
        "\n",
        "    std::thread t1(thread_worker, a_ptr, b_ptr, output_ptr, 0, mid, n, p);\n",
        "    std::thread t2(thread_worker, a_ptr, b_ptr, output_ptr, mid, m, n, p);\n",
        "\n",
        "    // Join threads\n",
        "    t1.join();\n",
        "    t2.join();\n",
        "\n",
        "    return output;\n",
        "}\n",
        "\"\"\"\n",
        "\n",
        "# Load the extension\n",
        "my_kernel_lib = load_inline(\n",
        "    name=\"cpp_extension\",\n",
        "    cpp_sources=cpp_source,\n",
        "    functions=\"my_mt_avx_ikj_matmul\",\n",
        "    extra_cflags=[\"-mavx\", \"-mfma\", \"-O2\"],\n",
        ")"
      ]
    },
    {
      "cell_type": "code",
      "execution_count": null,
      "metadata": {
        "id": "0LXkgaTHlVTH"
      },
      "outputs": [],
      "source": [
        "check_correctness(my_kernel_lib.my_mt_avx_ikj_matmul)\n",
        "benchmark_matmul(my_kernel_lib.my_mt_avx_ikj_matmul)"
      ]
    }
  ],
  "metadata": {
    "colab": {
      "provenance": [],
      "toc_visible": true
    },
    "kernelspec": {
      "display_name": "zollm",
      "language": "python",
      "name": "python3"
    },
    "language_info": {
      "codemirror_mode": {
        "name": "ipython",
        "version": 3
      },
      "file_extension": ".py",
      "mimetype": "text/x-python",
      "name": "python",
      "nbconvert_exporter": "python",
      "pygments_lexer": "ipython3",
      "version": "3.10.14"
    }
  },
  "nbformat": 4,
  "nbformat_minor": 0
}