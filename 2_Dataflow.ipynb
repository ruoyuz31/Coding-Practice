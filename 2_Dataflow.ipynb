{
  "cells": [
    {
      "cell_type": "markdown",
      "metadata": {
        "id": "view-in-github",
        "colab_type": "text"
      },
      "source": [
        "<a href=\"https://colab.research.google.com/github/ruoyuz31/Coding-Practice/blob/main/2_Dataflow.ipynb\" target=\"_parent\"><img src=\"https://colab.research.google.com/assets/colab-badge.svg\" alt=\"Open In Colab\"/></a>"
      ]
    },
    {
      "cell_type": "markdown",
      "metadata": {
        "id": "1FMWNlSGhFEU"
      },
      "source": [
        "# EE 508 HW 3 Part 2: Dataflow\n",
        "\n",
        "Your task in this Colab notebook is to fill out the sections that are specified by **TODO** (please search the keyword `TODO` to make sure you do not miss any)."
      ]
    },
    {
      "cell_type": "markdown",
      "metadata": {
        "id": "VhlsQFzaTPor"
      },
      "source": [
        "## Dataflow Simulation\n",
        "\n",
        "This section defines the Processing Element (PE) functions for three dataflow architectures: Weight Stationary, Output Stationary, and Input Stationary. The simulation leverages the `multiprocessing` library, with PEs executed as `Process` instances. Data movement is managed using `Queue`, while results are stored in `Array`. The I/O costs is managed using `Value`, you need to update the corresponding values when implementing the `worker()` and `run()` functions.\n",
        "\n",
        "Your task is to correctly route weights, activations, and partial sums according to each dataflow strategy. The number of PEs is configured to match each stationary approach.\n",
        "\n",
        "**Note**: Multi-processing can introduce deadlocks or resource contention. Ensure thorough debugging to prevent infinite execution loops.\n"
      ]
    },
    {
      "cell_type": "markdown",
      "metadata": {
        "id": "Il6Qf5yIT9_M"
      },
      "source": [
        "## Global Variable Settings\n",
        "\n",
        "We first initialize multiprocessing tools, sets up debug flags, generates random activations and weights, and prints these values."
      ]
    },
    {
      "cell_type": "code",
      "execution_count": 1,
      "metadata": {
        "colab": {
          "base_uri": "https://localhost:8080/"
        },
        "id": "BR00LVQbJxjA",
        "outputId": "f76bfe0a-7b17-456a-f75b-668df07cc85d"
      },
      "outputs": [
        {
          "output_type": "stream",
          "name": "stdout",
          "text": [
            "Weights: [0.23652218060055274, 0.6098681281096653, 0.09332802660269246]\n",
            "Activations: [0.5147010991517658, 0.9092204163793883, 0.5888200790820967, 0.33560574641286267, 0.9260788485190737, 0.06368502651764074, 0.47822075192313684, 0.2565323589392431]\n"
          ]
        }
      ],
      "source": [
        "import multiprocessing\n",
        "from multiprocessing import Process, Queue, Array, Value\n",
        "from queue import Empty\n",
        "import random\n",
        "\n",
        "NUM_ACTIVATIONS = 8\n",
        "NUM_WEIGHTS = 3\n",
        "DEBUG = True\n",
        "\n",
        "# Generate test data\n",
        "weights = [random.uniform(0, 1) for _ in range(NUM_WEIGHTS)]\n",
        "activations = [random.uniform(0, 1) for _ in range(NUM_ACTIVATIONS)]\n",
        "\n",
        "print(f\"Weights: {weights:}\")\n",
        "print(f\"Activations: {activations}\")"
      ]
    },
    {
      "cell_type": "markdown",
      "metadata": {
        "id": "L-uMSsKcM2M_"
      },
      "source": [
        "#### `DataflowBase`\n",
        "This is the base class for simulating dataflow architectures. It provides foundational structures and methods for derived classes, including:\n",
        "- Storing processing element (PE) configurations.\n",
        "- Computing ground truth values for validation.\n",
        "- Defining the `worker` method (to be implemented by subclasses).\n",
        "- A `run` method placeholder for executing the simulation.\n",
        "\n",
        "**Important**\n",
        "- We use `Queue` to simulate the datacasting process; the data format to mimic the transmission between external memories and PE register files is `(time_step: int, values: float)`\n",
        "- The shift and padding is done by the control logic in the `run()` method, so make sure that you pass the data correctly in the functions."
      ]
    },
    {
      "cell_type": "code",
      "execution_count": 2,
      "metadata": {
        "id": "05MY8KxV97O3"
      },
      "outputs": [],
      "source": [
        "class DataflowBase:\n",
        "    def __init__(self, num_pes, weights, activations, debug=False):\n",
        "        self.num_pes = num_pes\n",
        "        self.weights = weights\n",
        "        self.activations = activations\n",
        "        self.debug = debug\n",
        "\n",
        "        self.num_activations = len(activations)\n",
        "        self.num_weights = len(weights)\n",
        "        self.num_outputs = self.num_activations - self.num_weights + 1\n",
        "\n",
        "        # Store processes\n",
        "        self.processes = []\n",
        "\n",
        "        # count measurements\n",
        "        self.cnt_memoryIO = Value('i', 0)\n",
        "        self.cnt_registerIO = Value('i', 0)\n",
        "\n",
        "    def calculate_ground_truth(self):\n",
        "        \"\"\"Generate reference results for validation\"\"\"\n",
        "        gt = [0.0] * (self.num_outputs)\n",
        "        for i in range(len(gt)):\n",
        "            for k in range(self.num_weights):\n",
        "                gt[i] += self.weights[k] * self.activations[i + k]\n",
        "        return gt\n",
        "\n",
        "    def worker(self, pe_id, top_q, left_q, right_q):\n",
        "        pass\n",
        "\n",
        "    def run(self):\n",
        "        pass\n",
        "\n",
        "    def IO_measurement(self):\n",
        "        print(f\"Number of I/O from the external memory:{self.cnt_memoryIO.value}\")\n",
        "        print(f\"Number of I/O from the PE register files:{self.cnt_registerIO.value}\")\n"
      ]
    },
    {
      "cell_type": "markdown",
      "metadata": {
        "id": "-Wb_GymiLTSg"
      },
      "source": [
        "## Weight Stationary Configuration"
      ]
    },
    {
      "cell_type": "markdown",
      "metadata": {
        "id": "vutnDrya97O3"
      },
      "source": [
        "![ws.png](data:image/png;base64,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)"
      ]
    },
    {
      "cell_type": "markdown",
      "metadata": {
        "id": "N_2NJbjCM2NA"
      },
      "source": [
        "### `WeightStationary`\n",
        "A subclass of `DataflowBase` implementing a weight-stationary dataflow. This approach keeps weights fixed in processing elements (PEs) while activations stream through. The class:\n",
        "\n",
        "- Initializes shared queues for activation broadcasting and partial sum accumulation.\n",
        "- Each PE:\n",
        "  - Retrieves activations from the broadcast queue along with their **timestep**.\n",
        "  - Checks if the **timestep** falls within its valid computation range.\n",
        "  - Retrieves activations from the broadcast queue.\n",
        "  - Multiplies the received activation with its fixed weight and accumulates the result with a running partial sum.\n",
        "  - Passes the updated partial sum to the next PE.\n",
        "- Implements the `run()` method, which:\n",
        "  - Spawns worker processes for PEs.\n",
        "  - Broadcasts activations, ensuring each activation is associated with a **timestep**.\n",
        "  - Collects final outputs from the rightmost queue.\n",
        "\n",
        "**Timestep Usage:**  \n",
        "The **timestep** indicates when an activation enters the pipeline. Each PE processes activations only if the **timestep** falls within its valid computation window.\n",
        "\n",
        "**Important**\n",
        "- We use `Queue` to simulate the datacasting process; the data format to mimic the transmission between external memories and PE register files is `(time_step: int, values: float)`\n",
        "- The shift and padding is done by the control logic in the `run()` method, so make sure that you pass the data correctly in the functions."
      ]
    },
    {
      "cell_type": "markdown",
      "metadata": {
        "id": "CC-EdAT4PZq4"
      },
      "source": [
        "### **TODO 1:**\n",
        "\n",
        "Complete the missing code in the WeightStationary `worker` function below."
      ]
    },
    {
      "cell_type": "code",
      "execution_count": 35,
      "metadata": {
        "id": "kAgYd_r497O3"
      },
      "outputs": [],
      "source": [
        "class WeightStationary(DataflowBase):\n",
        "    def __init__(self, num_pes, weights, activations, debug=False):\n",
        "        super().__init__(num_pes, weights, activations, debug)\n",
        "\n",
        "        # Initialize shared data structures\n",
        "        self.broadcast_queues = [Queue() for _ in range(self.num_pes)]\n",
        "        self.partial_sum_queues = [Queue() for _ in range(self.num_pes + 1)]\n",
        "        self.output_regfiles = Array('d', [0.0] * (self.num_outputs))\n",
        "        self.pe_regfiles = Array('d', weights)\n",
        "\n",
        "    def worker(self, pe_id, top_q, left_q, right_q):\n",
        "        \"\"\"Processing Element (PE) worker function.\"\"\"\n",
        "        while True:\n",
        "            try:\n",
        "                time_step, activation = top_q.get(timeout=1)\n",
        "            except Empty:\n",
        "                break\n",
        "\n",
        "            # Check valid time step range for this PE\n",
        "            if time_step >= pe_id:\n",
        "                # Perform PE function\n",
        "                try:\n",
        "                    prev_psum = left_q.get(timeout=1)\n",
        "                except Empty:\n",
        "                    break\n",
        "                new_psum = prev_psum + self.pe_regfiles[pe_id] * activation\n",
        "                right_q.put(new_psum)\n",
        "\n",
        "                if self.debug:\n",
        "                    print(f\"PE{pe_id}: ts={time_step}, weight={self.pe_regfiles[pe_id]:.4f}, activation={activation:.4f}, \"\n",
        "                          f\"prev_psum={prev_psum:.4f}, new_psum={new_psum:.4f}\\n\")\n",
        "\n",
        "        print(f\"PE{pe_id} exiting\")\n",
        "\n",
        "    def run(self):\n",
        "        \"\"\"Execute the simulator pipeline\"\"\"\n",
        "        # Prepare worker processes\n",
        "        for pe_id in range(self.num_pes):\n",
        "            self.processes.append(Process(\n",
        "                target=self.worker,\n",
        "                args=(\n",
        "                    pe_id,\n",
        "                    self.broadcast_queues[pe_id],\n",
        "                    self.partial_sum_queues[pe_id],\n",
        "                    self.partial_sum_queues[pe_id + 1]\n",
        "                )\n",
        "            ))\n",
        "\n",
        "        # Initialize partial sums for the leftmost queue\n",
        "        for _ in range(self.num_outputs):\n",
        "            self.partial_sum_queues[0].put(0.0)\n",
        "\n",
        "        # Broadcast activations to all workers\n",
        "        for ts, activation in enumerate(self.activations):\n",
        "            for q in self.broadcast_queues:\n",
        "                # casting the activations to the PEs\n",
        "                q.put((ts, activation))\n",
        "                # update the memory I/O counts\n",
        "                self.cnt_memoryIO.value += 1\n",
        "\n",
        "        # Start all processes\n",
        "        for p in self.processes:\n",
        "            p.start()\n",
        "\n",
        "        # Collect outputs from the rightmost queue\n",
        "        for i in range(self.num_outputs):\n",
        "            self.output_regfiles[i] = self.partial_sum_queues[-1].get()\n",
        "\n",
        "        # Wait for all processes to complete\n",
        "        for p in self.processes:\n",
        "            p.join()\n",
        "\n",
        "        return list(self.output_regfiles)"
      ]
    },
    {
      "cell_type": "markdown",
      "metadata": {
        "id": "qbMdq_e0M2NA"
      },
      "source": [
        "Next, we initialize and run the `WeightStation` simulator to compute outputs using a weight-stationary dataflow. It first creates the simulator with the given weights, activations, and processing elements. The `run()` method executes the simulation, and the results are printed. Then, the ground truth is computed using a direct method and compared to the simulation results to check for correctness."
      ]
    },
    {
      "cell_type": "code",
      "execution_count": 36,
      "metadata": {
        "colab": {
          "base_uri": "https://localhost:8080/"
        },
        "id": "epLP_qOv97O3",
        "outputId": "01a3062d-4a86-4d69-c16a-570730d4c494"
      },
      "outputs": [
        {
          "output_type": "stream",
          "name": "stdout",
          "text": [
            "PE0: ts=0, weight=0.2365, activation=0.5147, prev_psum=0.0000, new_psum=0.1217\n",
            "PE1: ts=1, weight=0.6099, activation=0.9092, prev_psum=0.1217, new_psum=0.6762\n",
            "\n",
            "\n",
            "PE0: ts=1, weight=0.2365, activation=0.9092, prev_psum=0.0000, new_psum=0.2151\n",
            "PE1: ts=2, weight=0.6099, activation=0.5888, prev_psum=0.2151, new_psum=0.5742\n",
            "\n",
            "\n",
            "PE1: ts=3, weight=0.6099, activation=0.3356, prev_psum=0.1393, new_psum=0.3439\n",
            "PE0: ts=2, weight=0.2365, activation=0.5888, prev_psum=0.0000, new_psum=0.1393\n",
            "\n",
            "\n",
            "PE2: ts=2, weight=0.0933, activation=0.5888, prev_psum=0.6762, new_psum=0.7312\n",
            "PE0: ts=3, weight=0.2365, activation=0.3356, prev_psum=0.0000, new_psum=0.0794\n",
            "PE1: ts=4, weight=0.6099, activation=0.9261, prev_psum=0.0794, new_psum=0.6442\n",
            "\n",
            "\n",
            "PE0: ts=4, weight=0.2365, activation=0.9261, prev_psum=0.0000, new_psum=0.2190\n",
            "\n",
            "\n",
            "PE2: ts=3, weight=0.0933, activation=0.3356, prev_psum=0.5742, new_psum=0.6055\n",
            "PE0: ts=5, weight=0.2365, activation=0.0637, prev_psum=0.0000, new_psum=0.0151\n",
            "PE1: ts=5, weight=0.6099, activation=0.0637, prev_psum=0.2190, new_psum=0.2579\n",
            "\n",
            "\n",
            "\n",
            "PE1: ts=6, weight=0.6099, activation=0.4782, prev_psum=0.0151, new_psum=0.3067\n",
            "PE2: ts=4, weight=0.0933, activation=0.9261, prev_psum=0.3439, new_psum=0.4304\n",
            "\n",
            "\n",
            "PE2: ts=5, weight=0.0933, activation=0.0637, prev_psum=0.6442, new_psum=0.6501\n",
            "\n",
            "PE2: ts=6, weight=0.0933, activation=0.4782, prev_psum=0.2579, new_psum=0.3025\n",
            "\n",
            "PE2: ts=7, weight=0.0933, activation=0.2565, prev_psum=0.3067, new_psum=0.3307\n",
            "\n",
            "PE0 exiting\n",
            "PE1 exiting\n",
            "PE2 exiting\n",
            "\n",
            "Simulation results: ['0.7312', '0.6055', '0.4304', '0.6501', '0.3025', '0.3307']\n",
            "\n",
            "Ground truth: ['0.7312', '0.6055', '0.4304', '0.6501', '0.3025', '0.3307']\n",
            "\n",
            "Results matched: True\n",
            "\n",
            "Communication costs:\n",
            "Number of I/O from the external memory:24\n",
            "Number of I/O from the PE register files:0\n"
          ]
        }
      ],
      "source": [
        "# Create and run simulator\n",
        "simulator = WeightStationary(\n",
        "    num_pes=NUM_WEIGHTS,\n",
        "    weights=weights,\n",
        "    activations=activations,\n",
        "    debug=DEBUG\n",
        ")\n",
        "\n",
        "\n",
        "# Run simulator implementation\n",
        "result = simulator.run()\n",
        "print(\"\\nSimulation results:\", [f\"{v:.4f}\" for v in result])\n",
        "\n",
        "# Calculate ground truth for validation\n",
        "gt = simulator.calculate_ground_truth()\n",
        "print(\"\\nGround truth:\", [f\"{v:.4f}\" for v in gt])\n",
        "\n",
        "# Compare results\n",
        "print(\"\\nResults matched:\", result == gt)\n",
        "\n",
        "# Print the I/O communication cost\n",
        "print(\"\\nCommunication costs:\")\n",
        "simulator.IO_measurement()"
      ]
    },
    {
      "cell_type": "markdown",
      "metadata": {
        "id": "eXJ7KT5197O4"
      },
      "source": [
        "## Output Stationary Configuration"
      ]
    },
    {
      "cell_type": "markdown",
      "metadata": {
        "id": "sdiAnWwG97O4"
      },
      "source": [
        "![os.png](data:image/png;base64,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)"
      ]
    },
    {
      "cell_type": "markdown",
      "metadata": {
        "id": "Qy3YagKHM2NB"
      },
      "source": [
        "### `OutputStationary`\n",
        "A subclass of `DataflowBase` implementing an output-stationary dataflow. Here, partial sums remain stationary in the PEs while weights and activations are streamed through. The class:\n",
        "\n",
        "- Uses queues to broadcast weights and pass activations between PEs.\n",
        "- Each PE:\n",
        "  - Fetches activations from the queue, each tagged with a **timestep**.\n",
        "  - Checks if the **timestep** falls within its valid computation range.\n",
        "  - Retrieves weights from the broadcast queue.\n",
        "  - Multiplies the received weight with the activation and accumulates the result in its local register file.\n",
        "  - Passes activations to the next PE.\n",
        "- Implements the `run()` method, which:\n",
        "  - Spawns worker processes for PEs.\n",
        "  - Feeds activations with their **timestep** and broadcasts weights.\n",
        "  - Collects final results from the PE registers.\n",
        "\n",
        "**Timestep Usage:**  \n",
        "The **timestep** determines which PE should process an activation. A PE only updates its register file if the **timestep** falls within its assigned computation range.\n",
        "\n",
        "**Important**\n",
        "- We use `Queue` to simulate the datacasting process; the data format to mimic the transmission between external memories and PE register files is `(time_step: int, values: float)`\n",
        "- The shift and padding is done by the control logic in the `run()` method, so make sure that you pass the data correctly in the functions.\n"
      ]
    },
    {
      "cell_type": "markdown",
      "metadata": {
        "id": "lqiPU3n2PZq6"
      },
      "source": [
        "### **TODO 2:**\n",
        "\n",
        "Complete the missing code in the OutputStationary `worker` function below."
      ]
    },
    {
      "cell_type": "code",
      "execution_count": null,
      "metadata": {
        "id": "799uV5WB97O4"
      },
      "outputs": [],
      "source": [
        "class OutputStationary(DataflowBase):\n",
        "    def __init__(self, num_pes, weights, activations, debug=False):\n",
        "        super().__init__(num_pes, weights, activations, debug)\n",
        "\n",
        "        # Initialize shared data structures\n",
        "        self.broadcast_queues = [Queue() for _ in range(self.num_pes)]\n",
        "        self.activation_queues = [Queue() for _ in range(self.num_pes + 1)]\n",
        "        self.pe_regfiles = Array('d', [0.0] * (self.num_pes))\n",
        "\n",
        "    def worker(self, pe_id, top_q, left_q, right_q):\n",
        "        \"\"\"Processing Element (PE) worker function.\"\"\"\n",
        "        while True:\n",
        "            try:\n",
        "                time_step, activation = left_q.get(timeout=1)\n",
        "            except Empty:\n",
        "                break\n",
        "\n",
        "            # Check valid time step range for this PE\n",
        "            if time_step >= pe_id:\n",
        "                # Perform PE function\n",
        "                try:\n",
        "                    weight = top_q.get(timeout=1)\n",
        "                except Empty:\n",
        "                    break\n",
        "                prev_psum = self.pe_regfiles[pe_id]\n",
        "                new_psum = prev_psum + weight * activation\n",
        "\n",
        "                # Read from the PE register files, update the cnt\n",
        "                self.cnt_registerIO.value += 1\n",
        "\n",
        "                if self.debug:\n",
        "                    print(f\"PE{pe_id}: ts={time_step}, weight={self.pe_regfiles[pe_id]:.4f}, activation={activation:.4f}, \"\n",
        "                          f\"prev_psum={prev_psum:.4f}, new_psum={new_psum:.4f}\\n\")\n",
        "\n",
        "            right_q.put((time_step, activation))\n",
        "\n",
        "        print(f\"PE{pe_id} exiting\")\n",
        "\n",
        "    def run(self):\n",
        "        \"\"\"Execute the simulator pipeline\"\"\"\n",
        "        # Prepare worker processes\n",
        "        for pe_id in range(self.num_pes):\n",
        "            p = Process(target=self.worker, args=(\n",
        "                pe_id,\n",
        "                self.broadcast_queues[pe_id],\n",
        "                self.activation_queues[pe_id],\n",
        "                self.activation_queues[pe_id + 1]\n",
        "            ))\n",
        "            self.processes.append(p)\n",
        "\n",
        "        # Send activation to the leftmost worker\n",
        "        for ts, activation in enumerate(self.activations):\n",
        "            self.activation_queues[0].put((ts, activation))\n",
        "\n",
        "        # Broadcast weights to all workers\n",
        "        for weight in self.weights:\n",
        "            for q in self.broadcast_queues:\n",
        "                # casting the activations to the PEs\n",
        "                q.put(weight)\n",
        "                # update the memory I/O counts\n",
        "                self.cnt_memoryIO.value += 1\n",
        "\n",
        "        # Start all processes\n",
        "        for p in self.processes:\n",
        "            p.start()\n",
        "\n",
        "        # Wait for processes to finish\n",
        "        for p in self.processes:\n",
        "            p.join()\n",
        "\n",
        "        return list(self.pe_regfiles)"
      ]
    },
    {
      "cell_type": "code",
      "execution_count": null,
      "metadata": {
        "id": "OAE3J30A97O4"
      },
      "outputs": [],
      "source": [
        "# Create and run simulator\n",
        "simulator = OutputStationary(\n",
        "    num_pes=NUM_ACTIVATIONS-NUM_WEIGHTS+1,\n",
        "    weights=weights,\n",
        "    activations=activations,\n",
        "    debug=DEBUG\n",
        ")\n",
        "\n",
        "# Run simulator implementation\n",
        "result = simulator.run()\n",
        "print(\"\\nSimulation results:\", [f\"{v:.4f}\" for v in result])\n",
        "\n",
        "# Calculate ground truth for validation\n",
        "gt = simulator.calculate_ground_truth()\n",
        "print(\"\\nGround truth:\", [f\"{v:.4f}\" for v in gt])\n",
        "\n",
        "# Compare results\n",
        "print(\"\\nResults matched:\", result == gt)\n",
        "\n",
        "# Print the I/O communication cost\n",
        "print(\"\\nCommunication costs:\")\n",
        "simulator.IO_measurement()"
      ]
    },
    {
      "cell_type": "markdown",
      "metadata": {
        "id": "5KN1xWNh97O4"
      },
      "source": [
        "## Input Stationary Configuration"
      ]
    },
    {
      "cell_type": "markdown",
      "metadata": {
        "id": "dA4uJ0Xs97O4"
      },
      "source": [
        "![is.png](data:image/png;base64,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)"
      ]
    },
    {
      "cell_type": "markdown",
      "metadata": {
        "id": "dKojrbvaM2NB"
      },
      "source": [
        "### `InputStationary`\n",
        "A subclass of `DataflowBase` implementing an input-stationary dataflow, where activations remain fixed in the PEs while weights and partial sums are streamed through. The class:\n",
        "\n",
        "- Initializes shared queues for weight broadcasting and partial sum accumulation.\n",
        "- Each PE:\n",
        "  - Receives weights from a broadcast queue, each associated with a **timestep**.\n",
        "  - Checks if the **timestep** falls within its valid computation range.\n",
        "  - Multiplies the received weight with its fixed activation and accumulates the result with a running partial sum.\n",
        "  - Passes the updated partial sum to the next PE.\n",
        "  - If outside the valid computation window, it simply forwards the partial sum.\n",
        "- Implements the `run()` method, which:\n",
        "  - Spawns worker processes for PEs.\n",
        "  - Distributes weights dynamically based on **timestep**.\n",
        "  - Collects final results from the rightmost queue.\n",
        "\n",
        "**Timestep Usage:**  \n",
        "The **timestep** determines which weight is assigned to each PE at a given moment. If a PE is not within the valid computation window for that **timestep**, it simply forwards the partial sum.\n",
        "\n",
        "**Important**\n",
        "- We use `Queue` to simulate the datacasting process; the data format to mimic the transmission between external memories and PE register files is `(time_step: int, values: float)`\n",
        "- The shift and padding is done by the control logic in the `run()` method, so make sure that you pass the data correctly in the functions.\n"
      ]
    },
    {
      "cell_type": "markdown",
      "metadata": {
        "id": "1A8fNvOGPZq8"
      },
      "source": [
        "### **TODO 3:**\n",
        "\n",
        "Complete the missing code in the InputStationary `worker` function below."
      ]
    },
    {
      "cell_type": "code",
      "execution_count": null,
      "metadata": {
        "id": "GGBK8NWz97O5"
      },
      "outputs": [],
      "source": [
        "class InputStationary(DataflowBase):\n",
        "    def __init__(self, num_pes, weights, activations, debug=False):\n",
        "        super().__init__(num_pes, weights, activations, debug)\n",
        "\n",
        "        # Initialize shared data structures\n",
        "        self.broadcast_queues = [Queue() for _ in range(self.num_pes)]\n",
        "        self.partial_sum_queues = [Queue() for _ in range(self.num_pes + 1)]\n",
        "        self.output_regfiles = Array('d', [0.0] * (self.num_outputs))\n",
        "        self.pe_regfiles = Array('d', activations)\n",
        "\n",
        "    def worker(self, pe_id, weight_q, right_q, left_q):\n",
        "        \"\"\"Processing Element (PE) worker function.\"\"\"\n",
        "        while True:\n",
        "            try:\n",
        "                time_step, weight = weight_q.get(timeout=1)  # avoid infinite blocking\n",
        "            except Empty:\n",
        "                break\n",
        "\n",
        "            # Check valid time step range for this PE\n",
        "            if ():\n",
        "                # If in the convolution window, perform PE function\n",
        "\n",
        "\n",
        "                # Read from the PE register files, update the cnt\n",
        "                self.cnt_registerIO.value += 1\n",
        "\n",
        "                if self.debug:\n",
        "                    print(f\"PE{pe_id}: ts={time_step}, weight={weight:.4f}, activation={activation:.4f}, \"\n",
        "                          f\"prev_psum={prev_psum:.4f}, new_psum={new_psum:.4f}\\n\")\n",
        "            else:\n",
        "                # Otherwise, perform PE function\n",
        "\n",
        "\n",
        "\n",
        "        if self.debug:\n",
        "            print(f\"PE{pe_id} exiting\")\n",
        "\n",
        "\n",
        "    def run(self):\n",
        "        \"\"\"Execute the simulator pipeline\"\"\"\n",
        "        # Prepare worker processes\n",
        "        for pe_id in range(self.num_pes):\n",
        "            p = Process(\n",
        "                target=self.worker,\n",
        "                args=(\n",
        "                    pe_id,\n",
        "                    self.broadcast_queues[pe_id],\n",
        "                    self.partial_sum_queues[pe_id + 1],\n",
        "                    self.partial_sum_queues[pe_id],\n",
        "                )\n",
        "            )\n",
        "            self.processes.append(p)\n",
        "\n",
        "        # Initialize partial sums for the leftmost queue\n",
        "        for _ in range(self.num_outputs):\n",
        "            self.partial_sum_queues[0].put(0.0)\n",
        "\n",
        "        # Broadcast weights with dummy zero values\n",
        "        for ts in range(self.num_outputs):\n",
        "            for i in range(self.num_pes):\n",
        "                if ts <= i <= ts + len(self.weights) - 1:\n",
        "                    # For valid indices, choose the proper weight:\n",
        "                    weight = self.weights[i - ts]\n",
        "                    # update the memory I/O counts\n",
        "                    self.cnt_memoryIO.value += 1\n",
        "                else:\n",
        "                    weight = 0.0\n",
        "                # casting the activations to the PEs\n",
        "                self.broadcast_queues[i].put((ts, weight))\n",
        "\n",
        "        # Start all worker processes\n",
        "        for p in self.processes:\n",
        "            p.start()\n",
        "\n",
        "        # Collect outputs from the rightmost queue\n",
        "        for i in range(self.num_outputs):\n",
        "            self.output_regfiles[i] = self.partial_sum_queues[-1].get()\n",
        "\n",
        "        # Wait for processes to finish\n",
        "        for p in self.processes:\n",
        "            p.join()\n",
        "\n",
        "        return list(self.output_regfiles)"
      ]
    },
    {
      "cell_type": "code",
      "execution_count": null,
      "metadata": {
        "id": "XDyzHdnq97O5"
      },
      "outputs": [],
      "source": [
        "# Create and run simulator\n",
        "simulator = InputStationary(\n",
        "    num_pes=NUM_ACTIVATIONS,\n",
        "    weights=weights,\n",
        "    activations=activations,\n",
        "    debug=DEBUG\n",
        ")\n",
        "\n",
        "# Run simulator implementation\n",
        "result = simulator.run()\n",
        "print(\"\\nSimulation results:\", [f\"{v:.4f}\" for v in result])\n",
        "\n",
        "# Calculate ground truth for validation\n",
        "gt = simulator.calculate_ground_truth()\n",
        "print(\"\\nGround truth:\", [f\"{v:.4f}\" for v in gt])\n",
        "\n",
        "# Compare results\n",
        "print(\"\\nResults matched:\", result == gt)\n",
        "\n",
        "# Print the I/O communication cost\n",
        "print(\"\\nCommunication costs:\")\n",
        "simulator.IO_measurement()"
      ]
    }
  ],
  "metadata": {
    "colab": {
      "provenance": [],
      "toc_visible": true,
      "include_colab_link": true
    },
    "kernelspec": {
      "display_name": "zollm",
      "language": "python",
      "name": "python3"
    },
    "language_info": {
      "codemirror_mode": {
        "name": "ipython",
        "version": 3
      },
      "file_extension": ".py",
      "mimetype": "text/x-python",
      "name": "python",
      "nbconvert_exporter": "python",
      "pygments_lexer": "ipython3",
      "version": "3.9.19"
    }
  },
  "nbformat": 4,
  "nbformat_minor": 0
}