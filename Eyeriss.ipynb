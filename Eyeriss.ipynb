{
  "cells": [
    {
      "cell_type": "markdown",
      "metadata": {
        "id": "view-in-github",
        "colab_type": "text"
      },
      "source": [
        "<a href=\"https://colab.research.google.com/github/ruoyuz31/Coding-Practice/blob/main/Eyeriss.ipynb\" target=\"_parent\"><img src=\"https://colab.research.google.com/assets/colab-badge.svg\" alt=\"Open In Colab\"/></a>"
      ]
    },
    {
      "cell_type": "markdown",
      "metadata": {
        "id": "JA0rETRQZBON"
      },
      "source": [
        "# EE 599 Reading Assignment 1:\n",
        "You can access paper using this [link](https://courses.cs.washington.edu/courses/cse550/21au/papers/CSE550.Eyeriss.pdf), and please do not distribute the paper."
      ]
    },
    {
      "cell_type": "markdown",
      "metadata": {
        "id": "s-HWWv6kaxrx"
      },
      "source": [
        "### Q1: (1 Point)\n",
        "\n",
        "**Disallowed** list:\n",
        "- You **MAY NOT** collaborate with anyone else on this assignment. This means you cannot talk to anyone else about the assignment until after deadline.\n",
        "- You **MAY NOT** use ChatGPT and services like that\n",
        "\n",
        "**Allowed** list:\n",
        "- Notes including any slides from the class\n",
        "- The textbooks\n",
        "- The given paper"
      ]
    },
    {
      "cell_type": "markdown",
      "metadata": {
        "id": "Pz0uD-nHbHuT"
      },
      "source": [
        "### A1:\n",
        "\n",
        "I affirm I have read these exam rules and will follow them. Failure to do so may subject me to sanctions including an F in the course.\n",
        "\n",
        "**Type your full name to affirm you have read the above statement:**\n",
        "Ruoyu Zhao"
      ]
    },
    {
      "cell_type": "markdown",
      "metadata": {
        "id": "XzNWLVCLbcjq"
      },
      "source": [
        "----\n",
        "### Q2 Summary (24 Points):\n",
        "\n",
        "Summarize the main objectives and contributions of the paper.\n"
      ]
    },
    {
      "cell_type": "markdown",
      "metadata": {
        "id": "0j5A4_Zfbpra"
      },
      "source": [
        "### A2:\n",
        "\n",
        "This paper designed a special accelerator to speed up concolutional neural network computing. Its contributions are from four aspects:\n",
        "\n",
        "1. Designed spatial architecture of processing elements to do parallel convolutional operation.\n",
        "2. Use Row Stationary dataflow to reduce the data transmission.\n",
        "3. Designed the architecture for multicasting data to processing elements in parallel and delieverying data across processing elements.\n",
        "4. Implement Run-length compression and PE data gating to reduce data communication, storage, and computing for better efficiency."
      ]
    },
    {
      "cell_type": "markdown",
      "metadata": {
        "id": "IE2n5UQHbuZ-"
      },
      "source": [
        "---\n",
        "### Q3 Comprehension (15 Points):\n",
        "- What problem is the paper addressing?\n",
        "- How does the Eyeriss architecture differ from other architectures you are familiar with?"
      ]
    },
    {
      "cell_type": "markdown",
      "metadata": {
        "id": "9O7k2DbXcNp0"
      },
      "source": [
        "### A3:\n",
        "\n",
        "\n",
        "*   The paper addresses the inefficient operation of traditional CPU processers when dealing with convolutional neural network, due to the frequent data trasmission of repeated information and mediate results.\n",
        "*   First, the processing element of the Eyeriss is specially designed to deal with vector convolution operations, while the processing element of other architectures usually deal with simpler operation like addition or multiplication. Second, the data communication between processing elements and the global buffer follow special directions for CNN operations only. Third, there are functions like RLC ENDEC and data gating due to the special properties, i.e. the large amount of zeros, for CNN data.\n",
        "\n"
      ]
    },
    {
      "cell_type": "markdown",
      "metadata": {
        "id": "PnzcxvhWckY5"
      },
      "source": [
        "---\n",
        "### Q4 Technical Deep Dive (15 Points):\n",
        "- Describe the spatial architecture of Eyeriss in your own words.\n",
        "- How does the Eyeriss architecture optimize energy efficiency in dataflow for CNNs?\n",
        "- What are the main challenges in designing an energy-efficient architecture for CNNs, and how does Eyeriss tackle these challenges?"
      ]
    },
    {
      "cell_type": "markdown",
      "metadata": {
        "id": "sv3rFNjpcuID"
      },
      "source": [
        "### A4:\n",
        "\n",
        "\n",
        "*   Eyeriss is composed of 12-by-14 processing element array. Each of the row share an X-bus and all the X-buses combine into one Y-bus to communicate with the GLB. The processing elements also have direct connections to its vertical neighbors.\n",
        "*  Data access to the DRAM and GLB are minimized by maximally reusing data from the low-cost spads and inter-PE communication.\n",
        "*  Challenge 1: row vector convolution. Eyeriss use 1-D convolution primitive in a PE with partial sum storage. Challenge 2: matrix convolution. Eyeriss use PE set to do matrix convolution which reuse filters across columns, ifmaps diagonally, and partial sum vertically. Challenge 3: mapping different size of operations. The PE set size is flexible. the PE arrays can be divided into several sets, and one large convolution operation can be divided into several steps using strip minign. Challenge 4: dealing with demensions beyond 2-D: concatenating spatially or interleaving temporally are used to fit in larger dimension in one PE set, besides, multiple PE sets can be used to treat high dimension simultaneously. Moreover, multiple processing passes with efficient scheduling are used when one pass cannot finish one convolution opearation.\n"
      ]
    },
    {
      "cell_type": "markdown",
      "metadata": {
        "id": "HRBvFutTc2uh"
      },
      "source": [
        "---\n",
        "### Q5 Evaluation (15 Points):\n",
        "- What were the key results or findings of the paper? Were they compelling?\n",
        "- How do the authors validate their claims or results? Are there any weaknesses in their methodology?"
      ]
    },
    {
      "cell_type": "markdown",
      "metadata": {
        "id": "xKUL8nhTdNLZ"
      },
      "source": [
        "### A5:\n",
        "\n",
        "\n",
        "*   Eyeriss accelerator achieved AlexNet implementation with 35 frames/s and 0.0029 DRAM access/MAC at 278 mW, and VGG-16 implementation with 0.7 frames/s and 0.0035 DRAM access/MAC at 236mW. They were compelling since the GPU or CPU usually requires 100W-level power and will need frequent DRAM access.\n",
        "*   The authors validate their results by measuring the actual hardware chip during experiment and conducting post-place and route simulation. Their methodology does not fully utilize all the PEs, leading to some resource redundancy. Besides, the data loading process from GLB to PE arrays is not optimized and slow. The communication with DRAM is not paralleled with PE operations and slow down the chip speed further.\n",
        "\n"
      ]
    },
    {
      "cell_type": "markdown",
      "metadata": {
        "id": "Fp_FV2bzdV4D"
      },
      "source": [
        "---\n",
        "### Q6 Contextual Understanding (10 Points):\n",
        "- How does this work fit into the larger context of neural network architectures and energy efficiency?\n",
        "- Can the principles of Eyeriss be applied to other deep learning architectures beyond CNNs?\n"
      ]
    },
    {
      "cell_type": "markdown",
      "metadata": {
        "id": "OvpxYhvNdg18"
      },
      "source": [
        "### A6:"
      ]
    },
    {
      "cell_type": "markdown",
      "metadata": {
        "id": "cxUpnGmtdjfX"
      },
      "source": [
        "---\n",
        "### Q7 Discussion and Critique (10 points):\n",
        "- Are there any assumptions made by the authors that you disagree with or find questionable?\n",
        "- Do you think there are potential improvements or future directions not addressed by the authors?\n",
        "- How would you compare Eyeriss with other architectures or solutions you know of?"
      ]
    },
    {
      "cell_type": "markdown",
      "metadata": {
        "id": "cjAQy1qLdvZ7"
      },
      "source": [
        "### A7:"
      ]
    },
    {
      "cell_type": "markdown",
      "metadata": {
        "id": "hSMCnPg8d_0S"
      },
      "source": [
        "---\n",
        "### Q8 Reflection (10 Points):\n",
        "- What was the most surprising or counterintuitive thing you learned from this paper?\n",
        "- How has reading this paper influenced your views on the importance of energy efficiency in deep learning?"
      ]
    },
    {
      "cell_type": "markdown",
      "metadata": {
        "id": "nBtgEgPXeNR5"
      },
      "source": [
        "### A8:"
      ]
    }
  ],
  "metadata": {
    "colab": {
      "provenance": [],
      "include_colab_link": true
    },
    "kernelspec": {
      "display_name": "Python 3",
      "name": "python3"
    },
    "language_info": {
      "name": "python"
    }
  },
  "nbformat": 4,
  "nbformat_minor": 0
}